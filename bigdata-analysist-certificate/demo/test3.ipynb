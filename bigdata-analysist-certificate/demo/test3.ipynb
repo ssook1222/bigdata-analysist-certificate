{
  "nbformat": 4,
  "nbformat_minor": 0,
  "metadata": {
    "colab": {
      "provenance": []
    },
    "kernelspec": {
      "name": "python3",
      "display_name": "Python 3"
    },
    "language_info": {
      "name": "python"
    }
  },
  "cells": [
    {
      "cell_type": "markdown",
      "source": [
        "## 작업 1영역"
      ],
      "metadata": {
        "id": "UBNYYPT32woU"
      }
    },
    {
      "cell_type": "code",
      "source": [
        "import pandas as pd\n",
        "df = pd.read_csv('https://raw.githubusercontent.com/Datamanim/datarepo/main/spotify/spotify.csv')\n",
        "df.head()"
      ],
      "metadata": {
        "colab": {
          "base_uri": "https://localhost:8080/",
          "height": 275
        },
        "id": "oah4HuO82zo8",
        "outputId": "cf0915a7-22aa-4e74-aa85-a951892aadb6"
      },
      "execution_count": 59,
      "outputs": [
        {
          "output_type": "execute_result",
          "data": {
            "text/plain": [
              "                                           title      artist    top genre  \\\n",
              "0                  STARSTRUKK (feat. Katy Perry)       3OH!3    dance pop   \n",
              "1                    My First Kiss (feat. Ke$ha)       3OH!3    dance pop   \n",
              "2                                I Need A Dollar  Aloe Blacc     pop soul   \n",
              "3  Airplanes (feat. Hayley Williams of Paramore)       B.o.B  atl hip hop   \n",
              "4              Nothin' on You (feat. Bruno Mars)       B.o.B  atl hip hop   \n",
              "\n",
              "   year released       added    bpm  nrgy  dnce   dB  live   val    dur  \\\n",
              "0         2009.0  2022‑02‑17  140.0  81.0  61.0 -6.0  23.0  23.0  203.0   \n",
              "1         2010.0  2022‑02‑17  138.0  89.0  68.0 -4.0  36.0  83.0  192.0   \n",
              "2         2010.0  2022‑02‑17   95.0  48.0  84.0 -7.0   9.0  96.0  243.0   \n",
              "3         2010.0  2022‑02‑17   93.0  87.0  66.0 -4.0   4.0  38.0  180.0   \n",
              "4         2010.0  2022‑02‑17  104.0  85.0  69.0 -6.0   9.0  74.0  268.0   \n",
              "\n",
              "   acous  spch   pop  top year artist type  \n",
              "0    0.0   6.0  70.0    2010.0         Duo  \n",
              "1    1.0   8.0  68.0    2010.0         Duo  \n",
              "2   20.0   3.0  72.0    2010.0        Solo  \n",
              "3   11.0  12.0  80.0    2010.0        Solo  \n",
              "4   39.0   5.0  79.0    2010.0        Solo  "
            ],
            "text/html": [
              "\n",
              "  <div id=\"df-f70cda1e-295b-4dcf-9eb2-a4e6bdf84a41\" class=\"colab-df-container\">\n",
              "    <div>\n",
              "<style scoped>\n",
              "    .dataframe tbody tr th:only-of-type {\n",
              "        vertical-align: middle;\n",
              "    }\n",
              "\n",
              "    .dataframe tbody tr th {\n",
              "        vertical-align: top;\n",
              "    }\n",
              "\n",
              "    .dataframe thead th {\n",
              "        text-align: right;\n",
              "    }\n",
              "</style>\n",
              "<table border=\"1\" class=\"dataframe\">\n",
              "  <thead>\n",
              "    <tr style=\"text-align: right;\">\n",
              "      <th></th>\n",
              "      <th>title</th>\n",
              "      <th>artist</th>\n",
              "      <th>top genre</th>\n",
              "      <th>year released</th>\n",
              "      <th>added</th>\n",
              "      <th>bpm</th>\n",
              "      <th>nrgy</th>\n",
              "      <th>dnce</th>\n",
              "      <th>dB</th>\n",
              "      <th>live</th>\n",
              "      <th>val</th>\n",
              "      <th>dur</th>\n",
              "      <th>acous</th>\n",
              "      <th>spch</th>\n",
              "      <th>pop</th>\n",
              "      <th>top year</th>\n",
              "      <th>artist type</th>\n",
              "    </tr>\n",
              "  </thead>\n",
              "  <tbody>\n",
              "    <tr>\n",
              "      <th>0</th>\n",
              "      <td>STARSTRUKK (feat. Katy Perry)</td>\n",
              "      <td>3OH!3</td>\n",
              "      <td>dance pop</td>\n",
              "      <td>2009.0</td>\n",
              "      <td>2022‑02‑17</td>\n",
              "      <td>140.0</td>\n",
              "      <td>81.0</td>\n",
              "      <td>61.0</td>\n",
              "      <td>-6.0</td>\n",
              "      <td>23.0</td>\n",
              "      <td>23.0</td>\n",
              "      <td>203.0</td>\n",
              "      <td>0.0</td>\n",
              "      <td>6.0</td>\n",
              "      <td>70.0</td>\n",
              "      <td>2010.0</td>\n",
              "      <td>Duo</td>\n",
              "    </tr>\n",
              "    <tr>\n",
              "      <th>1</th>\n",
              "      <td>My First Kiss (feat. Ke$ha)</td>\n",
              "      <td>3OH!3</td>\n",
              "      <td>dance pop</td>\n",
              "      <td>2010.0</td>\n",
              "      <td>2022‑02‑17</td>\n",
              "      <td>138.0</td>\n",
              "      <td>89.0</td>\n",
              "      <td>68.0</td>\n",
              "      <td>-4.0</td>\n",
              "      <td>36.0</td>\n",
              "      <td>83.0</td>\n",
              "      <td>192.0</td>\n",
              "      <td>1.0</td>\n",
              "      <td>8.0</td>\n",
              "      <td>68.0</td>\n",
              "      <td>2010.0</td>\n",
              "      <td>Duo</td>\n",
              "    </tr>\n",
              "    <tr>\n",
              "      <th>2</th>\n",
              "      <td>I Need A Dollar</td>\n",
              "      <td>Aloe Blacc</td>\n",
              "      <td>pop soul</td>\n",
              "      <td>2010.0</td>\n",
              "      <td>2022‑02‑17</td>\n",
              "      <td>95.0</td>\n",
              "      <td>48.0</td>\n",
              "      <td>84.0</td>\n",
              "      <td>-7.0</td>\n",
              "      <td>9.0</td>\n",
              "      <td>96.0</td>\n",
              "      <td>243.0</td>\n",
              "      <td>20.0</td>\n",
              "      <td>3.0</td>\n",
              "      <td>72.0</td>\n",
              "      <td>2010.0</td>\n",
              "      <td>Solo</td>\n",
              "    </tr>\n",
              "    <tr>\n",
              "      <th>3</th>\n",
              "      <td>Airplanes (feat. Hayley Williams of Paramore)</td>\n",
              "      <td>B.o.B</td>\n",
              "      <td>atl hip hop</td>\n",
              "      <td>2010.0</td>\n",
              "      <td>2022‑02‑17</td>\n",
              "      <td>93.0</td>\n",
              "      <td>87.0</td>\n",
              "      <td>66.0</td>\n",
              "      <td>-4.0</td>\n",
              "      <td>4.0</td>\n",
              "      <td>38.0</td>\n",
              "      <td>180.0</td>\n",
              "      <td>11.0</td>\n",
              "      <td>12.0</td>\n",
              "      <td>80.0</td>\n",
              "      <td>2010.0</td>\n",
              "      <td>Solo</td>\n",
              "    </tr>\n",
              "    <tr>\n",
              "      <th>4</th>\n",
              "      <td>Nothin' on You (feat. Bruno Mars)</td>\n",
              "      <td>B.o.B</td>\n",
              "      <td>atl hip hop</td>\n",
              "      <td>2010.0</td>\n",
              "      <td>2022‑02‑17</td>\n",
              "      <td>104.0</td>\n",
              "      <td>85.0</td>\n",
              "      <td>69.0</td>\n",
              "      <td>-6.0</td>\n",
              "      <td>9.0</td>\n",
              "      <td>74.0</td>\n",
              "      <td>268.0</td>\n",
              "      <td>39.0</td>\n",
              "      <td>5.0</td>\n",
              "      <td>79.0</td>\n",
              "      <td>2010.0</td>\n",
              "      <td>Solo</td>\n",
              "    </tr>\n",
              "  </tbody>\n",
              "</table>\n",
              "</div>\n",
              "    <div class=\"colab-df-buttons\">\n",
              "\n",
              "  <div class=\"colab-df-container\">\n",
              "    <button class=\"colab-df-convert\" onclick=\"convertToInteractive('df-f70cda1e-295b-4dcf-9eb2-a4e6bdf84a41')\"\n",
              "            title=\"Convert this dataframe to an interactive table.\"\n",
              "            style=\"display:none;\">\n",
              "\n",
              "  <svg xmlns=\"http://www.w3.org/2000/svg\" height=\"24px\" viewBox=\"0 -960 960 960\">\n",
              "    <path d=\"M120-120v-720h720v720H120Zm60-500h600v-160H180v160Zm220 220h160v-160H400v160Zm0 220h160v-160H400v160ZM180-400h160v-160H180v160Zm440 0h160v-160H620v160ZM180-180h160v-160H180v160Zm440 0h160v-160H620v160Z\"/>\n",
              "  </svg>\n",
              "    </button>\n",
              "\n",
              "  <style>\n",
              "    .colab-df-container {\n",
              "      display:flex;\n",
              "      gap: 12px;\n",
              "    }\n",
              "\n",
              "    .colab-df-convert {\n",
              "      background-color: #E8F0FE;\n",
              "      border: none;\n",
              "      border-radius: 50%;\n",
              "      cursor: pointer;\n",
              "      display: none;\n",
              "      fill: #1967D2;\n",
              "      height: 32px;\n",
              "      padding: 0 0 0 0;\n",
              "      width: 32px;\n",
              "    }\n",
              "\n",
              "    .colab-df-convert:hover {\n",
              "      background-color: #E2EBFA;\n",
              "      box-shadow: 0px 1px 2px rgba(60, 64, 67, 0.3), 0px 1px 3px 1px rgba(60, 64, 67, 0.15);\n",
              "      fill: #174EA6;\n",
              "    }\n",
              "\n",
              "    .colab-df-buttons div {\n",
              "      margin-bottom: 4px;\n",
              "    }\n",
              "\n",
              "    [theme=dark] .colab-df-convert {\n",
              "      background-color: #3B4455;\n",
              "      fill: #D2E3FC;\n",
              "    }\n",
              "\n",
              "    [theme=dark] .colab-df-convert:hover {\n",
              "      background-color: #434B5C;\n",
              "      box-shadow: 0px 1px 3px 1px rgba(0, 0, 0, 0.15);\n",
              "      filter: drop-shadow(0px 1px 2px rgba(0, 0, 0, 0.3));\n",
              "      fill: #FFFFFF;\n",
              "    }\n",
              "  </style>\n",
              "\n",
              "    <script>\n",
              "      const buttonEl =\n",
              "        document.querySelector('#df-f70cda1e-295b-4dcf-9eb2-a4e6bdf84a41 button.colab-df-convert');\n",
              "      buttonEl.style.display =\n",
              "        google.colab.kernel.accessAllowed ? 'block' : 'none';\n",
              "\n",
              "      async function convertToInteractive(key) {\n",
              "        const element = document.querySelector('#df-f70cda1e-295b-4dcf-9eb2-a4e6bdf84a41');\n",
              "        const dataTable =\n",
              "          await google.colab.kernel.invokeFunction('convertToInteractive',\n",
              "                                                    [key], {});\n",
              "        if (!dataTable) return;\n",
              "\n",
              "        const docLinkHtml = 'Like what you see? Visit the ' +\n",
              "          '<a target=\"_blank\" href=https://colab.research.google.com/notebooks/data_table.ipynb>data table notebook</a>'\n",
              "          + ' to learn more about interactive tables.';\n",
              "        element.innerHTML = '';\n",
              "        dataTable['output_type'] = 'display_data';\n",
              "        await google.colab.output.renderOutput(dataTable, element);\n",
              "        const docLink = document.createElement('div');\n",
              "        docLink.innerHTML = docLinkHtml;\n",
              "        element.appendChild(docLink);\n",
              "      }\n",
              "    </script>\n",
              "  </div>\n",
              "\n",
              "\n",
              "<div id=\"df-892e0268-b929-4ad8-8d19-1ef0cf1a4825\">\n",
              "  <button class=\"colab-df-quickchart\" onclick=\"quickchart('df-892e0268-b929-4ad8-8d19-1ef0cf1a4825')\"\n",
              "            title=\"Suggest charts\"\n",
              "            style=\"display:none;\">\n",
              "\n",
              "<svg xmlns=\"http://www.w3.org/2000/svg\" height=\"24px\"viewBox=\"0 0 24 24\"\n",
              "     width=\"24px\">\n",
              "    <g>\n",
              "        <path d=\"M19 3H5c-1.1 0-2 .9-2 2v14c0 1.1.9 2 2 2h14c1.1 0 2-.9 2-2V5c0-1.1-.9-2-2-2zM9 17H7v-7h2v7zm4 0h-2V7h2v10zm4 0h-2v-4h2v4z\"/>\n",
              "    </g>\n",
              "</svg>\n",
              "  </button>\n",
              "\n",
              "<style>\n",
              "  .colab-df-quickchart {\n",
              "      --bg-color: #E8F0FE;\n",
              "      --fill-color: #1967D2;\n",
              "      --hover-bg-color: #E2EBFA;\n",
              "      --hover-fill-color: #174EA6;\n",
              "      --disabled-fill-color: #AAA;\n",
              "      --disabled-bg-color: #DDD;\n",
              "  }\n",
              "\n",
              "  [theme=dark] .colab-df-quickchart {\n",
              "      --bg-color: #3B4455;\n",
              "      --fill-color: #D2E3FC;\n",
              "      --hover-bg-color: #434B5C;\n",
              "      --hover-fill-color: #FFFFFF;\n",
              "      --disabled-bg-color: #3B4455;\n",
              "      --disabled-fill-color: #666;\n",
              "  }\n",
              "\n",
              "  .colab-df-quickchart {\n",
              "    background-color: var(--bg-color);\n",
              "    border: none;\n",
              "    border-radius: 50%;\n",
              "    cursor: pointer;\n",
              "    display: none;\n",
              "    fill: var(--fill-color);\n",
              "    height: 32px;\n",
              "    padding: 0;\n",
              "    width: 32px;\n",
              "  }\n",
              "\n",
              "  .colab-df-quickchart:hover {\n",
              "    background-color: var(--hover-bg-color);\n",
              "    box-shadow: 0 1px 2px rgba(60, 64, 67, 0.3), 0 1px 3px 1px rgba(60, 64, 67, 0.15);\n",
              "    fill: var(--button-hover-fill-color);\n",
              "  }\n",
              "\n",
              "  .colab-df-quickchart-complete:disabled,\n",
              "  .colab-df-quickchart-complete:disabled:hover {\n",
              "    background-color: var(--disabled-bg-color);\n",
              "    fill: var(--disabled-fill-color);\n",
              "    box-shadow: none;\n",
              "  }\n",
              "\n",
              "  .colab-df-spinner {\n",
              "    border: 2px solid var(--fill-color);\n",
              "    border-color: transparent;\n",
              "    border-bottom-color: var(--fill-color);\n",
              "    animation:\n",
              "      spin 1s steps(1) infinite;\n",
              "  }\n",
              "\n",
              "  @keyframes spin {\n",
              "    0% {\n",
              "      border-color: transparent;\n",
              "      border-bottom-color: var(--fill-color);\n",
              "      border-left-color: var(--fill-color);\n",
              "    }\n",
              "    20% {\n",
              "      border-color: transparent;\n",
              "      border-left-color: var(--fill-color);\n",
              "      border-top-color: var(--fill-color);\n",
              "    }\n",
              "    30% {\n",
              "      border-color: transparent;\n",
              "      border-left-color: var(--fill-color);\n",
              "      border-top-color: var(--fill-color);\n",
              "      border-right-color: var(--fill-color);\n",
              "    }\n",
              "    40% {\n",
              "      border-color: transparent;\n",
              "      border-right-color: var(--fill-color);\n",
              "      border-top-color: var(--fill-color);\n",
              "    }\n",
              "    60% {\n",
              "      border-color: transparent;\n",
              "      border-right-color: var(--fill-color);\n",
              "    }\n",
              "    80% {\n",
              "      border-color: transparent;\n",
              "      border-right-color: var(--fill-color);\n",
              "      border-bottom-color: var(--fill-color);\n",
              "    }\n",
              "    90% {\n",
              "      border-color: transparent;\n",
              "      border-bottom-color: var(--fill-color);\n",
              "    }\n",
              "  }\n",
              "</style>\n",
              "\n",
              "  <script>\n",
              "    async function quickchart(key) {\n",
              "      const quickchartButtonEl =\n",
              "        document.querySelector('#' + key + ' button');\n",
              "      quickchartButtonEl.disabled = true;  // To prevent multiple clicks.\n",
              "      quickchartButtonEl.classList.add('colab-df-spinner');\n",
              "      try {\n",
              "        const charts = await google.colab.kernel.invokeFunction(\n",
              "            'suggestCharts', [key], {});\n",
              "      } catch (error) {\n",
              "        console.error('Error during call to suggestCharts:', error);\n",
              "      }\n",
              "      quickchartButtonEl.classList.remove('colab-df-spinner');\n",
              "      quickchartButtonEl.classList.add('colab-df-quickchart-complete');\n",
              "    }\n",
              "    (() => {\n",
              "      let quickchartButtonEl =\n",
              "        document.querySelector('#df-892e0268-b929-4ad8-8d19-1ef0cf1a4825 button');\n",
              "      quickchartButtonEl.style.display =\n",
              "        google.colab.kernel.accessAllowed ? 'block' : 'none';\n",
              "    })();\n",
              "  </script>\n",
              "</div>\n",
              "    </div>\n",
              "  </div>\n"
            ]
          },
          "metadata": {},
          "execution_count": 59
        }
      ]
    },
    {
      "cell_type": "markdown",
      "source": [
        "### Question1\n",
        "\n",
        "데이터는 현재 년도별 100곡이 인기순으로 정렬되어 있다. 각 년도별 1~100위의 랭킹을 나타내는 rank컬럼을 만들고 매년도 1위의 bpm컬럼의 평균값을 구하여라"
      ],
      "metadata": {
        "id": "R2aWG5Lp21fv"
      }
    },
    {
      "cell_type": "code",
      "execution_count": 60,
      "metadata": {
        "id": "WJfbrDTf2uvj"
      },
      "outputs": [],
      "source": [
        "df = df.dropna(axis = 0)"
      ]
    },
    {
      "cell_type": "code",
      "source": [
        "df['rank'] = list(range(1,101))*10"
      ],
      "metadata": {
        "id": "bu1-JFWK26rs"
      },
      "execution_count": 61,
      "outputs": []
    },
    {
      "cell_type": "code",
      "source": [
        "print(df[(df['rank'] == 1)].bpm.mean())"
      ],
      "metadata": {
        "colab": {
          "base_uri": "https://localhost:8080/"
        },
        "id": "G9dMnGgN34AR",
        "outputId": "764f2ac2-d2c4-4894-c0b3-ce359bbaffef"
      },
      "execution_count": 62,
      "outputs": [
        {
          "output_type": "stream",
          "name": "stdout",
          "text": [
            "125.6\n"
          ]
        }
      ]
    },
    {
      "cell_type": "markdown",
      "source": [
        "### Question2\n",
        "\n",
        "2015년도에 가장많은 top100곡을 올린 artist는 누구인가?"
      ],
      "metadata": {
        "id": "O0NgNqfW4CsI"
      }
    },
    {
      "cell_type": "code",
      "source": [
        "df"
      ],
      "metadata": {
        "colab": {
          "base_uri": "https://localhost:8080/",
          "height": 527
        },
        "id": "hRtHgXiu4Jbt",
        "outputId": "883d78a9-284f-4d21-edfe-2a3ba4da00c7"
      },
      "execution_count": 63,
      "outputs": [
        {
          "output_type": "execute_result",
          "data": {
            "text/plain": [
              "                                             title              artist  \\\n",
              "0                    STARSTRUKK (feat. Katy Perry)               3OH!3   \n",
              "1                      My First Kiss (feat. Ke$ha)               3OH!3   \n",
              "2                                  I Need A Dollar          Aloe Blacc   \n",
              "3    Airplanes (feat. Hayley Williams of Paramore)               B.o.B   \n",
              "4                Nothin' on You (feat. Bruno Mars)               B.o.B   \n",
              "..                                             ...                 ...   \n",
              "995                                     SICKO MODE        Travis Scott   \n",
              "996                                      EARFQUAKE  Tyler, The Creator   \n",
              "997                      Boasty (feat. Idris Elba)               Wiley   \n",
              "998                    Strike a Pose (feat. Aitch)    Young T & Bugsey   \n",
              "999      The London (feat. J. Cole & Travis Scott)          Young Thug   \n",
              "\n",
              "       top genre  year released       added    bpm  nrgy  dnce   dB  live  \\\n",
              "0      dance pop         2009.0  2022‑02‑17  140.0  81.0  61.0 -6.0  23.0   \n",
              "1      dance pop         2010.0  2022‑02‑17  138.0  89.0  68.0 -4.0  36.0   \n",
              "2       pop soul         2010.0  2022‑02‑17   95.0  48.0  84.0 -7.0   9.0   \n",
              "3    atl hip hop         2010.0  2022‑02‑17   93.0  87.0  66.0 -4.0   4.0   \n",
              "4    atl hip hop         2010.0  2022‑02‑17  104.0  85.0  69.0 -6.0   9.0   \n",
              "..           ...            ...         ...    ...   ...   ...  ...   ...   \n",
              "995      hip hop         2018.0  2020‑06‑22  155.0  73.0  83.0 -4.0  12.0   \n",
              "996      hip hop         2019.0  2020‑06‑22   80.0  50.0  55.0 -9.0  80.0   \n",
              "997        grime         2019.0  2020‑06‑22  103.0  77.0  89.0 -5.0   9.0   \n",
              "998    afroswing         2019.0  2020‑08‑20  138.0  58.0  53.0 -6.0  10.0   \n",
              "999  atl hip hop         2019.0  2020‑06‑22   98.0  59.0  80.0 -7.0  13.0   \n",
              "\n",
              "      val    dur  acous  spch   pop  top year artist type  rank  \n",
              "0    23.0  203.0    0.0   6.0  70.0    2010.0         Duo     1  \n",
              "1    83.0  192.0    1.0   8.0  68.0    2010.0         Duo     2  \n",
              "2    96.0  243.0   20.0   3.0  72.0    2010.0        Solo     3  \n",
              "3    38.0  180.0   11.0  12.0  80.0    2010.0        Solo     4  \n",
              "4    74.0  268.0   39.0   5.0  79.0    2010.0        Solo     5  \n",
              "..    ...    ...    ...   ...   ...       ...         ...   ...  \n",
              "995  45.0  313.0    1.0  22.0  86.0    2019.0        Solo    96  \n",
              "996  41.0  190.0   23.0   7.0  85.0    2019.0        Solo    97  \n",
              "997  46.0  177.0    1.0   7.0  68.0    2019.0        Solo    98  \n",
              "998  59.0  214.0    1.0  10.0  67.0    2019.0         Duo    99  \n",
              "999  18.0  200.0    2.0  15.0  75.0    2019.0        Solo   100  \n",
              "\n",
              "[1000 rows x 18 columns]"
            ],
            "text/html": [
              "\n",
              "  <div id=\"df-fbd7b764-6e57-4c30-a770-4017df8212fe\" class=\"colab-df-container\">\n",
              "    <div>\n",
              "<style scoped>\n",
              "    .dataframe tbody tr th:only-of-type {\n",
              "        vertical-align: middle;\n",
              "    }\n",
              "\n",
              "    .dataframe tbody tr th {\n",
              "        vertical-align: top;\n",
              "    }\n",
              "\n",
              "    .dataframe thead th {\n",
              "        text-align: right;\n",
              "    }\n",
              "</style>\n",
              "<table border=\"1\" class=\"dataframe\">\n",
              "  <thead>\n",
              "    <tr style=\"text-align: right;\">\n",
              "      <th></th>\n",
              "      <th>title</th>\n",
              "      <th>artist</th>\n",
              "      <th>top genre</th>\n",
              "      <th>year released</th>\n",
              "      <th>added</th>\n",
              "      <th>bpm</th>\n",
              "      <th>nrgy</th>\n",
              "      <th>dnce</th>\n",
              "      <th>dB</th>\n",
              "      <th>live</th>\n",
              "      <th>val</th>\n",
              "      <th>dur</th>\n",
              "      <th>acous</th>\n",
              "      <th>spch</th>\n",
              "      <th>pop</th>\n",
              "      <th>top year</th>\n",
              "      <th>artist type</th>\n",
              "      <th>rank</th>\n",
              "    </tr>\n",
              "  </thead>\n",
              "  <tbody>\n",
              "    <tr>\n",
              "      <th>0</th>\n",
              "      <td>STARSTRUKK (feat. Katy Perry)</td>\n",
              "      <td>3OH!3</td>\n",
              "      <td>dance pop</td>\n",
              "      <td>2009.0</td>\n",
              "      <td>2022‑02‑17</td>\n",
              "      <td>140.0</td>\n",
              "      <td>81.0</td>\n",
              "      <td>61.0</td>\n",
              "      <td>-6.0</td>\n",
              "      <td>23.0</td>\n",
              "      <td>23.0</td>\n",
              "      <td>203.0</td>\n",
              "      <td>0.0</td>\n",
              "      <td>6.0</td>\n",
              "      <td>70.0</td>\n",
              "      <td>2010.0</td>\n",
              "      <td>Duo</td>\n",
              "      <td>1</td>\n",
              "    </tr>\n",
              "    <tr>\n",
              "      <th>1</th>\n",
              "      <td>My First Kiss (feat. Ke$ha)</td>\n",
              "      <td>3OH!3</td>\n",
              "      <td>dance pop</td>\n",
              "      <td>2010.0</td>\n",
              "      <td>2022‑02‑17</td>\n",
              "      <td>138.0</td>\n",
              "      <td>89.0</td>\n",
              "      <td>68.0</td>\n",
              "      <td>-4.0</td>\n",
              "      <td>36.0</td>\n",
              "      <td>83.0</td>\n",
              "      <td>192.0</td>\n",
              "      <td>1.0</td>\n",
              "      <td>8.0</td>\n",
              "      <td>68.0</td>\n",
              "      <td>2010.0</td>\n",
              "      <td>Duo</td>\n",
              "      <td>2</td>\n",
              "    </tr>\n",
              "    <tr>\n",
              "      <th>2</th>\n",
              "      <td>I Need A Dollar</td>\n",
              "      <td>Aloe Blacc</td>\n",
              "      <td>pop soul</td>\n",
              "      <td>2010.0</td>\n",
              "      <td>2022‑02‑17</td>\n",
              "      <td>95.0</td>\n",
              "      <td>48.0</td>\n",
              "      <td>84.0</td>\n",
              "      <td>-7.0</td>\n",
              "      <td>9.0</td>\n",
              "      <td>96.0</td>\n",
              "      <td>243.0</td>\n",
              "      <td>20.0</td>\n",
              "      <td>3.0</td>\n",
              "      <td>72.0</td>\n",
              "      <td>2010.0</td>\n",
              "      <td>Solo</td>\n",
              "      <td>3</td>\n",
              "    </tr>\n",
              "    <tr>\n",
              "      <th>3</th>\n",
              "      <td>Airplanes (feat. Hayley Williams of Paramore)</td>\n",
              "      <td>B.o.B</td>\n",
              "      <td>atl hip hop</td>\n",
              "      <td>2010.0</td>\n",
              "      <td>2022‑02‑17</td>\n",
              "      <td>93.0</td>\n",
              "      <td>87.0</td>\n",
              "      <td>66.0</td>\n",
              "      <td>-4.0</td>\n",
              "      <td>4.0</td>\n",
              "      <td>38.0</td>\n",
              "      <td>180.0</td>\n",
              "      <td>11.0</td>\n",
              "      <td>12.0</td>\n",
              "      <td>80.0</td>\n",
              "      <td>2010.0</td>\n",
              "      <td>Solo</td>\n",
              "      <td>4</td>\n",
              "    </tr>\n",
              "    <tr>\n",
              "      <th>4</th>\n",
              "      <td>Nothin' on You (feat. Bruno Mars)</td>\n",
              "      <td>B.o.B</td>\n",
              "      <td>atl hip hop</td>\n",
              "      <td>2010.0</td>\n",
              "      <td>2022‑02‑17</td>\n",
              "      <td>104.0</td>\n",
              "      <td>85.0</td>\n",
              "      <td>69.0</td>\n",
              "      <td>-6.0</td>\n",
              "      <td>9.0</td>\n",
              "      <td>74.0</td>\n",
              "      <td>268.0</td>\n",
              "      <td>39.0</td>\n",
              "      <td>5.0</td>\n",
              "      <td>79.0</td>\n",
              "      <td>2010.0</td>\n",
              "      <td>Solo</td>\n",
              "      <td>5</td>\n",
              "    </tr>\n",
              "    <tr>\n",
              "      <th>...</th>\n",
              "      <td>...</td>\n",
              "      <td>...</td>\n",
              "      <td>...</td>\n",
              "      <td>...</td>\n",
              "      <td>...</td>\n",
              "      <td>...</td>\n",
              "      <td>...</td>\n",
              "      <td>...</td>\n",
              "      <td>...</td>\n",
              "      <td>...</td>\n",
              "      <td>...</td>\n",
              "      <td>...</td>\n",
              "      <td>...</td>\n",
              "      <td>...</td>\n",
              "      <td>...</td>\n",
              "      <td>...</td>\n",
              "      <td>...</td>\n",
              "      <td>...</td>\n",
              "    </tr>\n",
              "    <tr>\n",
              "      <th>995</th>\n",
              "      <td>SICKO MODE</td>\n",
              "      <td>Travis Scott</td>\n",
              "      <td>hip hop</td>\n",
              "      <td>2018.0</td>\n",
              "      <td>2020‑06‑22</td>\n",
              "      <td>155.0</td>\n",
              "      <td>73.0</td>\n",
              "      <td>83.0</td>\n",
              "      <td>-4.0</td>\n",
              "      <td>12.0</td>\n",
              "      <td>45.0</td>\n",
              "      <td>313.0</td>\n",
              "      <td>1.0</td>\n",
              "      <td>22.0</td>\n",
              "      <td>86.0</td>\n",
              "      <td>2019.0</td>\n",
              "      <td>Solo</td>\n",
              "      <td>96</td>\n",
              "    </tr>\n",
              "    <tr>\n",
              "      <th>996</th>\n",
              "      <td>EARFQUAKE</td>\n",
              "      <td>Tyler, The Creator</td>\n",
              "      <td>hip hop</td>\n",
              "      <td>2019.0</td>\n",
              "      <td>2020‑06‑22</td>\n",
              "      <td>80.0</td>\n",
              "      <td>50.0</td>\n",
              "      <td>55.0</td>\n",
              "      <td>-9.0</td>\n",
              "      <td>80.0</td>\n",
              "      <td>41.0</td>\n",
              "      <td>190.0</td>\n",
              "      <td>23.0</td>\n",
              "      <td>7.0</td>\n",
              "      <td>85.0</td>\n",
              "      <td>2019.0</td>\n",
              "      <td>Solo</td>\n",
              "      <td>97</td>\n",
              "    </tr>\n",
              "    <tr>\n",
              "      <th>997</th>\n",
              "      <td>Boasty (feat. Idris Elba)</td>\n",
              "      <td>Wiley</td>\n",
              "      <td>grime</td>\n",
              "      <td>2019.0</td>\n",
              "      <td>2020‑06‑22</td>\n",
              "      <td>103.0</td>\n",
              "      <td>77.0</td>\n",
              "      <td>89.0</td>\n",
              "      <td>-5.0</td>\n",
              "      <td>9.0</td>\n",
              "      <td>46.0</td>\n",
              "      <td>177.0</td>\n",
              "      <td>1.0</td>\n",
              "      <td>7.0</td>\n",
              "      <td>68.0</td>\n",
              "      <td>2019.0</td>\n",
              "      <td>Solo</td>\n",
              "      <td>98</td>\n",
              "    </tr>\n",
              "    <tr>\n",
              "      <th>998</th>\n",
              "      <td>Strike a Pose (feat. Aitch)</td>\n",
              "      <td>Young T &amp; Bugsey</td>\n",
              "      <td>afroswing</td>\n",
              "      <td>2019.0</td>\n",
              "      <td>2020‑08‑20</td>\n",
              "      <td>138.0</td>\n",
              "      <td>58.0</td>\n",
              "      <td>53.0</td>\n",
              "      <td>-6.0</td>\n",
              "      <td>10.0</td>\n",
              "      <td>59.0</td>\n",
              "      <td>214.0</td>\n",
              "      <td>1.0</td>\n",
              "      <td>10.0</td>\n",
              "      <td>67.0</td>\n",
              "      <td>2019.0</td>\n",
              "      <td>Duo</td>\n",
              "      <td>99</td>\n",
              "    </tr>\n",
              "    <tr>\n",
              "      <th>999</th>\n",
              "      <td>The London (feat. J. Cole &amp; Travis Scott)</td>\n",
              "      <td>Young Thug</td>\n",
              "      <td>atl hip hop</td>\n",
              "      <td>2019.0</td>\n",
              "      <td>2020‑06‑22</td>\n",
              "      <td>98.0</td>\n",
              "      <td>59.0</td>\n",
              "      <td>80.0</td>\n",
              "      <td>-7.0</td>\n",
              "      <td>13.0</td>\n",
              "      <td>18.0</td>\n",
              "      <td>200.0</td>\n",
              "      <td>2.0</td>\n",
              "      <td>15.0</td>\n",
              "      <td>75.0</td>\n",
              "      <td>2019.0</td>\n",
              "      <td>Solo</td>\n",
              "      <td>100</td>\n",
              "    </tr>\n",
              "  </tbody>\n",
              "</table>\n",
              "<p>1000 rows × 18 columns</p>\n",
              "</div>\n",
              "    <div class=\"colab-df-buttons\">\n",
              "\n",
              "  <div class=\"colab-df-container\">\n",
              "    <button class=\"colab-df-convert\" onclick=\"convertToInteractive('df-fbd7b764-6e57-4c30-a770-4017df8212fe')\"\n",
              "            title=\"Convert this dataframe to an interactive table.\"\n",
              "            style=\"display:none;\">\n",
              "\n",
              "  <svg xmlns=\"http://www.w3.org/2000/svg\" height=\"24px\" viewBox=\"0 -960 960 960\">\n",
              "    <path d=\"M120-120v-720h720v720H120Zm60-500h600v-160H180v160Zm220 220h160v-160H400v160Zm0 220h160v-160H400v160ZM180-400h160v-160H180v160Zm440 0h160v-160H620v160ZM180-180h160v-160H180v160Zm440 0h160v-160H620v160Z\"/>\n",
              "  </svg>\n",
              "    </button>\n",
              "\n",
              "  <style>\n",
              "    .colab-df-container {\n",
              "      display:flex;\n",
              "      gap: 12px;\n",
              "    }\n",
              "\n",
              "    .colab-df-convert {\n",
              "      background-color: #E8F0FE;\n",
              "      border: none;\n",
              "      border-radius: 50%;\n",
              "      cursor: pointer;\n",
              "      display: none;\n",
              "      fill: #1967D2;\n",
              "      height: 32px;\n",
              "      padding: 0 0 0 0;\n",
              "      width: 32px;\n",
              "    }\n",
              "\n",
              "    .colab-df-convert:hover {\n",
              "      background-color: #E2EBFA;\n",
              "      box-shadow: 0px 1px 2px rgba(60, 64, 67, 0.3), 0px 1px 3px 1px rgba(60, 64, 67, 0.15);\n",
              "      fill: #174EA6;\n",
              "    }\n",
              "\n",
              "    .colab-df-buttons div {\n",
              "      margin-bottom: 4px;\n",
              "    }\n",
              "\n",
              "    [theme=dark] .colab-df-convert {\n",
              "      background-color: #3B4455;\n",
              "      fill: #D2E3FC;\n",
              "    }\n",
              "\n",
              "    [theme=dark] .colab-df-convert:hover {\n",
              "      background-color: #434B5C;\n",
              "      box-shadow: 0px 1px 3px 1px rgba(0, 0, 0, 0.15);\n",
              "      filter: drop-shadow(0px 1px 2px rgba(0, 0, 0, 0.3));\n",
              "      fill: #FFFFFF;\n",
              "    }\n",
              "  </style>\n",
              "\n",
              "    <script>\n",
              "      const buttonEl =\n",
              "        document.querySelector('#df-fbd7b764-6e57-4c30-a770-4017df8212fe button.colab-df-convert');\n",
              "      buttonEl.style.display =\n",
              "        google.colab.kernel.accessAllowed ? 'block' : 'none';\n",
              "\n",
              "      async function convertToInteractive(key) {\n",
              "        const element = document.querySelector('#df-fbd7b764-6e57-4c30-a770-4017df8212fe');\n",
              "        const dataTable =\n",
              "          await google.colab.kernel.invokeFunction('convertToInteractive',\n",
              "                                                    [key], {});\n",
              "        if (!dataTable) return;\n",
              "\n",
              "        const docLinkHtml = 'Like what you see? Visit the ' +\n",
              "          '<a target=\"_blank\" href=https://colab.research.google.com/notebooks/data_table.ipynb>data table notebook</a>'\n",
              "          + ' to learn more about interactive tables.';\n",
              "        element.innerHTML = '';\n",
              "        dataTable['output_type'] = 'display_data';\n",
              "        await google.colab.output.renderOutput(dataTable, element);\n",
              "        const docLink = document.createElement('div');\n",
              "        docLink.innerHTML = docLinkHtml;\n",
              "        element.appendChild(docLink);\n",
              "      }\n",
              "    </script>\n",
              "  </div>\n",
              "\n",
              "\n",
              "<div id=\"df-9d443a20-3dd9-4f53-a166-714026995545\">\n",
              "  <button class=\"colab-df-quickchart\" onclick=\"quickchart('df-9d443a20-3dd9-4f53-a166-714026995545')\"\n",
              "            title=\"Suggest charts\"\n",
              "            style=\"display:none;\">\n",
              "\n",
              "<svg xmlns=\"http://www.w3.org/2000/svg\" height=\"24px\"viewBox=\"0 0 24 24\"\n",
              "     width=\"24px\">\n",
              "    <g>\n",
              "        <path d=\"M19 3H5c-1.1 0-2 .9-2 2v14c0 1.1.9 2 2 2h14c1.1 0 2-.9 2-2V5c0-1.1-.9-2-2-2zM9 17H7v-7h2v7zm4 0h-2V7h2v10zm4 0h-2v-4h2v4z\"/>\n",
              "    </g>\n",
              "</svg>\n",
              "  </button>\n",
              "\n",
              "<style>\n",
              "  .colab-df-quickchart {\n",
              "      --bg-color: #E8F0FE;\n",
              "      --fill-color: #1967D2;\n",
              "      --hover-bg-color: #E2EBFA;\n",
              "      --hover-fill-color: #174EA6;\n",
              "      --disabled-fill-color: #AAA;\n",
              "      --disabled-bg-color: #DDD;\n",
              "  }\n",
              "\n",
              "  [theme=dark] .colab-df-quickchart {\n",
              "      --bg-color: #3B4455;\n",
              "      --fill-color: #D2E3FC;\n",
              "      --hover-bg-color: #434B5C;\n",
              "      --hover-fill-color: #FFFFFF;\n",
              "      --disabled-bg-color: #3B4455;\n",
              "      --disabled-fill-color: #666;\n",
              "  }\n",
              "\n",
              "  .colab-df-quickchart {\n",
              "    background-color: var(--bg-color);\n",
              "    border: none;\n",
              "    border-radius: 50%;\n",
              "    cursor: pointer;\n",
              "    display: none;\n",
              "    fill: var(--fill-color);\n",
              "    height: 32px;\n",
              "    padding: 0;\n",
              "    width: 32px;\n",
              "  }\n",
              "\n",
              "  .colab-df-quickchart:hover {\n",
              "    background-color: var(--hover-bg-color);\n",
              "    box-shadow: 0 1px 2px rgba(60, 64, 67, 0.3), 0 1px 3px 1px rgba(60, 64, 67, 0.15);\n",
              "    fill: var(--button-hover-fill-color);\n",
              "  }\n",
              "\n",
              "  .colab-df-quickchart-complete:disabled,\n",
              "  .colab-df-quickchart-complete:disabled:hover {\n",
              "    background-color: var(--disabled-bg-color);\n",
              "    fill: var(--disabled-fill-color);\n",
              "    box-shadow: none;\n",
              "  }\n",
              "\n",
              "  .colab-df-spinner {\n",
              "    border: 2px solid var(--fill-color);\n",
              "    border-color: transparent;\n",
              "    border-bottom-color: var(--fill-color);\n",
              "    animation:\n",
              "      spin 1s steps(1) infinite;\n",
              "  }\n",
              "\n",
              "  @keyframes spin {\n",
              "    0% {\n",
              "      border-color: transparent;\n",
              "      border-bottom-color: var(--fill-color);\n",
              "      border-left-color: var(--fill-color);\n",
              "    }\n",
              "    20% {\n",
              "      border-color: transparent;\n",
              "      border-left-color: var(--fill-color);\n",
              "      border-top-color: var(--fill-color);\n",
              "    }\n",
              "    30% {\n",
              "      border-color: transparent;\n",
              "      border-left-color: var(--fill-color);\n",
              "      border-top-color: var(--fill-color);\n",
              "      border-right-color: var(--fill-color);\n",
              "    }\n",
              "    40% {\n",
              "      border-color: transparent;\n",
              "      border-right-color: var(--fill-color);\n",
              "      border-top-color: var(--fill-color);\n",
              "    }\n",
              "    60% {\n",
              "      border-color: transparent;\n",
              "      border-right-color: var(--fill-color);\n",
              "    }\n",
              "    80% {\n",
              "      border-color: transparent;\n",
              "      border-right-color: var(--fill-color);\n",
              "      border-bottom-color: var(--fill-color);\n",
              "    }\n",
              "    90% {\n",
              "      border-color: transparent;\n",
              "      border-bottom-color: var(--fill-color);\n",
              "    }\n",
              "  }\n",
              "</style>\n",
              "\n",
              "  <script>\n",
              "    async function quickchart(key) {\n",
              "      const quickchartButtonEl =\n",
              "        document.querySelector('#' + key + ' button');\n",
              "      quickchartButtonEl.disabled = true;  // To prevent multiple clicks.\n",
              "      quickchartButtonEl.classList.add('colab-df-spinner');\n",
              "      try {\n",
              "        const charts = await google.colab.kernel.invokeFunction(\n",
              "            'suggestCharts', [key], {});\n",
              "      } catch (error) {\n",
              "        console.error('Error during call to suggestCharts:', error);\n",
              "      }\n",
              "      quickchartButtonEl.classList.remove('colab-df-spinner');\n",
              "      quickchartButtonEl.classList.add('colab-df-quickchart-complete');\n",
              "    }\n",
              "    (() => {\n",
              "      let quickchartButtonEl =\n",
              "        document.querySelector('#df-9d443a20-3dd9-4f53-a166-714026995545 button');\n",
              "      quickchartButtonEl.style.display =\n",
              "        google.colab.kernel.accessAllowed ? 'block' : 'none';\n",
              "    })();\n",
              "  </script>\n",
              "</div>\n",
              "    </div>\n",
              "  </div>\n"
            ]
          },
          "metadata": {},
          "execution_count": 63
        }
      ]
    },
    {
      "cell_type": "code",
      "source": [
        "print(df[(df['year released'] == 2015)].value_counts('artist').head(1).index[0])"
      ],
      "metadata": {
        "colab": {
          "base_uri": "https://localhost:8080/"
        },
        "id": "z4mQmExq4EvX",
        "outputId": "bde361d1-2ea6-47e9-c636-91054992b1aa"
      },
      "execution_count": 64,
      "outputs": [
        {
          "output_type": "stream",
          "name": "stdout",
          "text": [
            "Selena Gomez\n"
          ]
        }
      ]
    },
    {
      "cell_type": "markdown",
      "source": [
        "### Question3\n",
        "\n",
        "년도별 rank값이 1~10위 까지의 곡들 중 두번째로 많은 top genre는 무엇인가?"
      ],
      "metadata": {
        "id": "u3dtS0-j4Za7"
      }
    },
    {
      "cell_type": "code",
      "source": [
        "print(list(df[(df['rank'] >= 1) & (df['rank'] <= 10)].value_counts('top genre').head(3).index[1:]))"
      ],
      "metadata": {
        "colab": {
          "base_uri": "https://localhost:8080/"
        },
        "id": "6W0HXygT4bbB",
        "outputId": "b0d9c0f3-7d13-403e-964b-2f2f9bb53ce6"
      },
      "execution_count": 65,
      "outputs": [
        {
          "output_type": "stream",
          "name": "stdout",
          "text": [
            "['atl hip hop', 'british soul']\n"
          ]
        }
      ]
    },
    {
      "cell_type": "markdown",
      "source": [
        "### Question4\n",
        "\n",
        "피처링의 경우 title에 표시된다. 피처링을 가장 많이 해준 가수는 누구인가?"
      ],
      "metadata": {
        "id": "0dld_6Qh4-vi"
      }
    },
    {
      "cell_type": "code",
      "source": [
        "df.title"
      ],
      "metadata": {
        "colab": {
          "base_uri": "https://localhost:8080/"
        },
        "id": "dGMG777j5Aqk",
        "outputId": "077536c7-1c4a-49c6-e52b-5e5314257e1f"
      },
      "execution_count": 66,
      "outputs": [
        {
          "output_type": "execute_result",
          "data": {
            "text/plain": [
              "0                      STARSTRUKK (feat. Katy Perry)\n",
              "1                        My First Kiss (feat. Ke$ha)\n",
              "2                                    I Need A Dollar\n",
              "3      Airplanes (feat. Hayley Williams of Paramore)\n",
              "4                  Nothin' on You (feat. Bruno Mars)\n",
              "                           ...                      \n",
              "995                                       SICKO MODE\n",
              "996                                        EARFQUAKE\n",
              "997                        Boasty (feat. Idris Elba)\n",
              "998                      Strike a Pose (feat. Aitch)\n",
              "999        The London (feat. J. Cole & Travis Scott)\n",
              "Name: title, Length: 1000, dtype: object"
            ]
          },
          "metadata": {},
          "execution_count": 66
        }
      ]
    },
    {
      "cell_type": "code",
      "source": [
        "singer = {}"
      ],
      "metadata": {
        "id": "NYdWjNh75i2F"
      },
      "execution_count": 67,
      "outputs": []
    },
    {
      "cell_type": "code",
      "source": [
        "def chk(x):\n",
        "  if '(feat.' in x:\n",
        "    x = x.replace('(', '')\n",
        "    x = x.replace(')', '')\n",
        "    list_x = list(x.split(' '))\n",
        "    idx = list_x.index('feat.')\n",
        "    x = ' '.join(list_x[idx+1:])\n",
        "    if x in singer:\n",
        "      singer[x] += 1\n",
        "    else:\n",
        "      singer[x] = 1"
      ],
      "metadata": {
        "id": "PQ7L7r-U5Jqb"
      },
      "execution_count": 68,
      "outputs": []
    },
    {
      "cell_type": "code",
      "source": [
        "df.title.apply(chk)"
      ],
      "metadata": {
        "colab": {
          "base_uri": "https://localhost:8080/"
        },
        "id": "EzI3JisP5pjF",
        "outputId": "e5a8d836-016e-4a43-8d80-11e5e67c27a9"
      },
      "execution_count": 69,
      "outputs": [
        {
          "output_type": "execute_result",
          "data": {
            "text/plain": [
              "0      None\n",
              "1      None\n",
              "2      None\n",
              "3      None\n",
              "4      None\n",
              "       ... \n",
              "995    None\n",
              "996    None\n",
              "997    None\n",
              "998    None\n",
              "999    None\n",
              "Name: title, Length: 1000, dtype: object"
            ]
          },
          "metadata": {},
          "execution_count": 69
        }
      ]
    },
    {
      "cell_type": "code",
      "source": [
        "max_num = max(singer.values())\n",
        "for s in singer:\n",
        "  if singer[s] == max_num:\n",
        "    print(s)\n",
        "    break"
      ],
      "metadata": {
        "colab": {
          "base_uri": "https://localhost:8080/"
        },
        "id": "sYkf-wMM5tA4",
        "outputId": "cdc2cff3-b430-43de-d15a-1431256ee8d3"
      },
      "execution_count": 70,
      "outputs": [
        {
          "output_type": "stream",
          "name": "stdout",
          "text": [
            "Bruno Mars\n"
          ]
        }
      ]
    },
    {
      "cell_type": "markdown",
      "source": [
        "### Question5\n",
        "\n",
        "top year 년도를 기준으로 발매일(year released)과 top100에 진입한 일자 (top year)가 다른 곡의 숫자를 count 했을때 가장 많은 년도는?"
      ],
      "metadata": {
        "id": "XCnsdkwI7SzM"
      }
    },
    {
      "cell_type": "code",
      "source": [
        "df5 = df[(df['top year'] != df['year released'])]"
      ],
      "metadata": {
        "id": "uaBN5wlz7YsZ"
      },
      "execution_count": 72,
      "outputs": []
    },
    {
      "cell_type": "code",
      "source": [
        "print(df5.groupby('top year', as_index = False).title.count().sort_values('title', ascending = False).head(1)['top year'].values[0])"
      ],
      "metadata": {
        "colab": {
          "base_uri": "https://localhost:8080/"
        },
        "id": "w2y5arEB-ZKK",
        "outputId": "ffad236f-6ead-47a7-812e-c2670c55731f"
      },
      "execution_count": 78,
      "outputs": [
        {
          "output_type": "stream",
          "name": "stdout",
          "text": [
            "2016.0\n"
          ]
        }
      ]
    },
    {
      "cell_type": "markdown",
      "source": [
        "### Question6\n",
        "\n",
        "artist 컬럼의 값에 대소문자 상관없이 q 단어가 들어가는 아티스트는 몇명인가?"
      ],
      "metadata": {
        "id": "bMzlRs_v-wM7"
      }
    },
    {
      "cell_type": "code",
      "source": [
        "print(len(df[((df.artist.str.contains('q') == True) | (df.artist.str.contains('Q') == True))].artist.unique()))"
      ],
      "metadata": {
        "colab": {
          "base_uri": "https://localhost:8080/"
        },
        "id": "xPHASoOO-yYD",
        "outputId": "3e2d91e3-9036-450a-94b2-f916ef72b8c4"
      },
      "execution_count": 90,
      "outputs": [
        {
          "output_type": "stream",
          "name": "stdout",
          "text": [
            "6\n"
          ]
        }
      ]
    },
    {
      "cell_type": "markdown",
      "source": [
        "### Question7\n",
        "\n",
        "년도 상관없이 전체데이터에서 1 ~ 50위와 51 ~ 100위간의 dur 컬럼의 평균값의 차이는?"
      ],
      "metadata": {
        "id": "Vt59zQ6G_aUk"
      }
    },
    {
      "cell_type": "code",
      "source": [
        "df50 = df[((df['rank'] >= 1) & (df['rank'] <= 50))]\n",
        "df100 = df[((df['rank'] >= 51) & (df['rank'] <= 100))]"
      ],
      "metadata": {
        "id": "L7AE4rMs_mjJ"
      },
      "execution_count": 92,
      "outputs": []
    },
    {
      "cell_type": "code",
      "source": [
        "print(df50.dur.mean() - df100.dur.mean())"
      ],
      "metadata": {
        "colab": {
          "base_uri": "https://localhost:8080/"
        },
        "id": "qXZkvmW-AHw7",
        "outputId": "c6aa4b4e-4b5f-4abc-9e0f-3f8a0ab509da"
      },
      "execution_count": 93,
      "outputs": [
        {
          "output_type": "stream",
          "name": "stdout",
          "text": [
            "0.896000000000015\n"
          ]
        }
      ]
    },
    {
      "cell_type": "markdown",
      "source": [
        "### Question8\n",
        "\n",
        "title을 띄어쓰기 단어로 구분 했을때 가장 많이 나온 단어는 무엇인가? (대소문자 구분 x)"
      ],
      "metadata": {
        "id": "-agEe4GJAOxS"
      }
    },
    {
      "cell_type": "code",
      "source": [
        "words = {}\n",
        "lst = []\n",
        "\n",
        "def word_in(string):\n",
        "  string = string.replace('(feat.', '')\n",
        "  string = string.replace(').', '')\n",
        "  for x in string.split(' '):\n",
        "    if x != '':\n",
        "      if x in lst:\n",
        "        pass\n",
        "      else:\n",
        "        lst.append(x)\n",
        "\n",
        "    x_raw = x.lower()\n",
        "\n",
        "    if x_raw != '':\n",
        "      if x_raw in words and x_raw != '':\n",
        "        words[x_raw] += 1\n",
        "      else:\n",
        "        words[x_raw] = 1"
      ],
      "metadata": {
        "id": "OiQFmNqhARHQ"
      },
      "execution_count": 135,
      "outputs": []
    },
    {
      "cell_type": "code",
      "source": [
        "df.title.apply(word_in)"
      ],
      "metadata": {
        "colab": {
          "base_uri": "https://localhost:8080/"
        },
        "id": "DJmaXNXiAymV",
        "outputId": "9511f0aa-208f-4a6b-a6a4-4a8ecaf3e789"
      },
      "execution_count": 136,
      "outputs": [
        {
          "output_type": "execute_result",
          "data": {
            "text/plain": [
              "0      None\n",
              "1      None\n",
              "2      None\n",
              "3      None\n",
              "4      None\n",
              "       ... \n",
              "995    None\n",
              "996    None\n",
              "997    None\n",
              "998    None\n",
              "999    None\n",
              "Name: title, Length: 1000, dtype: object"
            ]
          },
          "metadata": {},
          "execution_count": 136
        }
      ]
    },
    {
      "cell_type": "code",
      "source": [
        "words = dict(sorted(words.items(), key = lambda x:-x[1]))"
      ],
      "metadata": {
        "id": "pgzb6EY7A2zq"
      },
      "execution_count": 137,
      "outputs": []
    },
    {
      "cell_type": "code",
      "source": [
        "words"
      ],
      "metadata": {
        "id": "lASPjhCSBd_R"
      },
      "execution_count": null,
      "outputs": []
    },
    {
      "cell_type": "code",
      "source": [
        "max_words = ''\n",
        "\n",
        "for d in words:\n",
        "  max_words = d\n",
        "  break\n",
        "\n",
        "for hubo in lst:\n",
        "  if hubo.lower() == max_words:\n",
        "    print(hubo)\n",
        "    break"
      ],
      "metadata": {
        "colab": {
          "base_uri": "https://localhost:8080/"
        },
        "id": "zUODeDvCBCEL",
        "outputId": "456dc21f-7d25-41b8-ae94-63d18691ddd5"
      },
      "execution_count": 138,
      "outputs": [
        {
          "output_type": "stream",
          "name": "stdout",
          "text": [
            "The\n"
          ]
        }
      ]
    },
    {
      "cell_type": "markdown",
      "source": [
        "### Question 9\n",
        "\n",
        "년도별 nrgy값의 평균값을 구할때 최대 평균값과 최소 평균값의 차이를 구하여라"
      ],
      "metadata": {
        "id": "rnLDqB9hCybT"
      }
    },
    {
      "cell_type": "code",
      "source": [
        "max_mean = df.groupby('top year').nrgy.mean().head(1).values[0]\n",
        "min_mean = df.groupby('top year').nrgy.mean().tail(1).values[0]"
      ],
      "metadata": {
        "id": "ymKa1JmmC2oj"
      },
      "execution_count": 142,
      "outputs": []
    },
    {
      "cell_type": "code",
      "source": [
        "print(max_mean - min_mean)"
      ],
      "metadata": {
        "colab": {
          "base_uri": "https://localhost:8080/"
        },
        "id": "Fe7CUHcdDHzZ",
        "outputId": "3880dc44-0cd5-42b9-fd9b-15349630591a"
      },
      "execution_count": 143,
      "outputs": [
        {
          "output_type": "stream",
          "name": "stdout",
          "text": [
            "13.860000000000007\n"
          ]
        }
      ]
    },
    {
      "cell_type": "markdown",
      "source": [
        "### Question10\n",
        "\n",
        "artist중 artist type 타입을 여러개 가지고 있는 artist는 누구인가"
      ],
      "metadata": {
        "id": "1A__1dwEDKQl"
      }
    },
    {
      "cell_type": "code",
      "source": [
        "df.columns"
      ],
      "metadata": {
        "colab": {
          "base_uri": "https://localhost:8080/"
        },
        "id": "km8v6sQQDQ5z",
        "outputId": "ce027ce5-8649-4de6-d32d-a0a1873e0fa4"
      },
      "execution_count": 145,
      "outputs": [
        {
          "output_type": "execute_result",
          "data": {
            "text/plain": [
              "Index(['title', 'artist', 'top genre', 'year released', 'added', 'bpm', 'nrgy',\n",
              "       'dnce', 'dB', 'live', 'val', 'dur', 'acous', 'spch', 'pop', 'top year',\n",
              "       'artist type', 'rank'],\n",
              "      dtype='object')"
            ]
          },
          "metadata": {},
          "execution_count": 145
        }
      ]
    },
    {
      "cell_type": "code",
      "source": [
        "df10 = df[['artist', 'artist type']]"
      ],
      "metadata": {
        "id": "aSNXEbaDDNS0"
      },
      "execution_count": 163,
      "outputs": []
    },
    {
      "cell_type": "code",
      "source": [
        "print(df10.value_counts(['artist', 'artist type']).reset_index().artist.value_counts().head(1).index[0])"
      ],
      "metadata": {
        "colab": {
          "base_uri": "https://localhost:8080/"
        },
        "id": "5FlAxE2GDYOD",
        "outputId": "5cf284e4-e492-425b-8075-bee5443fec3f"
      },
      "execution_count": 173,
      "outputs": [
        {
          "output_type": "stream",
          "name": "stdout",
          "text": [
            "Rudimental\n"
          ]
        }
      ]
    },
    {
      "cell_type": "markdown",
      "source": [
        "---"
      ],
      "metadata": {
        "id": "5CS2-OP4FEfS"
      }
    },
    {
      "cell_type": "markdown",
      "source": [
        "## 작업 2영역"
      ],
      "metadata": {
        "id": "SDKRNAZRFFao"
      }
    },
    {
      "cell_type": "code",
      "source": [
        "import pandas as pd\n",
        "import numpy as np"
      ],
      "metadata": {
        "id": "xN-7pkFEFJAr"
      },
      "execution_count": 174,
      "outputs": []
    },
    {
      "cell_type": "code",
      "source": [
        "x_train = pd.read_csv(\"https://raw.githubusercontent.com/Datamanim/datarepo/main/muscle/x_train.csv\")\n",
        "y_train = pd.read_csv(\"https://raw.githubusercontent.com/Datamanim/datarepo/main/muscle/y_train.csv\")\n",
        "test= pd.read_csv(\"https://raw.githubusercontent.com/Datamanim/datarepo/main/muscle/x_test.csv\")"
      ],
      "metadata": {
        "id": "trjw0MVSFHAB"
      },
      "execution_count": 191,
      "outputs": []
    },
    {
      "cell_type": "code",
      "source": [
        "x_train.columns"
      ],
      "metadata": {
        "colab": {
          "base_uri": "https://localhost:8080/"
        },
        "id": "fLvttNH6FL6n",
        "outputId": "fb024928-95fe-4918-d37c-7d0433fbe861"
      },
      "execution_count": 192,
      "outputs": [
        {
          "output_type": "execute_result",
          "data": {
            "text/plain": [
              "Index(['ID', 'motion_0', 'motion_1', 'motion_2', 'motion_3', 'motion_4',\n",
              "       'motion_5', 'motion_6', 'motion_7', 'motion_8', 'motion_9', 'motion_10',\n",
              "       'motion_11', 'motion_12', 'motion_13', 'motion_14', 'motion_15',\n",
              "       'motion_16', 'motion_17', 'motion_18', 'motion_19', 'motion_20',\n",
              "       'motion_21', 'motion_22', 'motion_23', 'motion_24', 'motion_25',\n",
              "       'motion_26', 'motion_27', 'motion_28', 'motion_29', 'motion_30',\n",
              "       'motion_31', 'motion_32', 'motion_33', 'motion_34', 'motion_35',\n",
              "       'motion_36', 'motion_37', 'motion_38', 'motion_39', 'motion_40',\n",
              "       'motion_41', 'motion_42', 'motion_43', 'motion_44', 'motion_45',\n",
              "       'motion_46', 'motion_47', 'motion_48', 'motion_49', 'motion_50',\n",
              "       'motion_51', 'motion_52', 'motion_53', 'motion_54', 'motion_55',\n",
              "       'motion_56', 'motion_57', 'motion_58', 'motion_59', 'motion_60',\n",
              "       'motion_61', 'motion_62', 'motion_63'],\n",
              "      dtype='object')"
            ]
          },
          "metadata": {},
          "execution_count": 192
        }
      ]
    },
    {
      "cell_type": "code",
      "source": [
        "x_train = x_train[['motion_0', 'motion_1', 'motion_2', 'motion_3', 'motion_4',\n",
        "       'motion_5', 'motion_6', 'motion_7', 'motion_8', 'motion_9', 'motion_10',\n",
        "       'motion_11', 'motion_12', 'motion_13', 'motion_14', 'motion_15',\n",
        "       'motion_16', 'motion_17', 'motion_18', 'motion_19', 'motion_20',\n",
        "       'motion_21', 'motion_22', 'motion_23', 'motion_24', 'motion_25',\n",
        "       'motion_26', 'motion_27', 'motion_28', 'motion_29', 'motion_30',\n",
        "       'motion_31', 'motion_32', 'motion_33', 'motion_34', 'motion_35',\n",
        "       'motion_36', 'motion_37', 'motion_38', 'motion_39', 'motion_40',\n",
        "       'motion_41', 'motion_42', 'motion_43', 'motion_44', 'motion_45',\n",
        "       'motion_46', 'motion_47', 'motion_48', 'motion_49', 'motion_50',\n",
        "       'motion_51', 'motion_52', 'motion_53', 'motion_54', 'motion_55',\n",
        "       'motion_56', 'motion_57', 'motion_58', 'motion_59', 'motion_60',\n",
        "       'motion_61', 'motion_62', 'motion_63']]"
      ],
      "metadata": {
        "id": "tdBhsZ-1FWZD"
      },
      "execution_count": 193,
      "outputs": []
    },
    {
      "cell_type": "code",
      "source": [
        "test = test[['motion_0', 'motion_1', 'motion_2', 'motion_3', 'motion_4',\n",
        "       'motion_5', 'motion_6', 'motion_7', 'motion_8', 'motion_9', 'motion_10',\n",
        "       'motion_11', 'motion_12', 'motion_13', 'motion_14', 'motion_15',\n",
        "       'motion_16', 'motion_17', 'motion_18', 'motion_19', 'motion_20',\n",
        "       'motion_21', 'motion_22', 'motion_23', 'motion_24', 'motion_25',\n",
        "       'motion_26', 'motion_27', 'motion_28', 'motion_29', 'motion_30',\n",
        "       'motion_31', 'motion_32', 'motion_33', 'motion_34', 'motion_35',\n",
        "       'motion_36', 'motion_37', 'motion_38', 'motion_39', 'motion_40',\n",
        "       'motion_41', 'motion_42', 'motion_43', 'motion_44', 'motion_45',\n",
        "       'motion_46', 'motion_47', 'motion_48', 'motion_49', 'motion_50',\n",
        "       'motion_51', 'motion_52', 'motion_53', 'motion_54', 'motion_55',\n",
        "       'motion_56', 'motion_57', 'motion_58', 'motion_59', 'motion_60',\n",
        "       'motion_61', 'motion_62', 'motion_63']]"
      ],
      "metadata": {
        "id": "kgRedv0lFbW8"
      },
      "execution_count": 194,
      "outputs": []
    },
    {
      "cell_type": "code",
      "source": [
        "print(x_train.isna().sum())\n",
        "print(test.isna().sum())"
      ],
      "metadata": {
        "colab": {
          "base_uri": "https://localhost:8080/"
        },
        "id": "X3Y-YM9vFfin",
        "outputId": "68c91385-4bac-40f6-dbf4-a13eaf9c050d"
      },
      "execution_count": 195,
      "outputs": [
        {
          "output_type": "stream",
          "name": "stdout",
          "text": [
            "motion_0     0\n",
            "motion_1     0\n",
            "motion_2     0\n",
            "motion_3     0\n",
            "motion_4     0\n",
            "            ..\n",
            "motion_59    0\n",
            "motion_60    0\n",
            "motion_61    0\n",
            "motion_62    0\n",
            "motion_63    0\n",
            "Length: 64, dtype: int64\n",
            "motion_0     0\n",
            "motion_1     0\n",
            "motion_2     0\n",
            "motion_3     0\n",
            "motion_4     0\n",
            "            ..\n",
            "motion_59    0\n",
            "motion_60    0\n",
            "motion_61    0\n",
            "motion_62    0\n",
            "motion_63    0\n",
            "Length: 64, dtype: int64\n"
          ]
        }
      ]
    },
    {
      "cell_type": "code",
      "source": [
        "print(x_train.info())\n",
        "print(test.info())"
      ],
      "metadata": {
        "id": "W_TmSdCnFlY6"
      },
      "execution_count": null,
      "outputs": []
    },
    {
      "cell_type": "code",
      "source": [
        "from sklearn.tree import DecisionTreeClassifier"
      ],
      "metadata": {
        "id": "UbXptGIOGRCf"
      },
      "execution_count": 197,
      "outputs": []
    },
    {
      "cell_type": "code",
      "source": [
        "dtc = DecisionTreeClassifier()\n",
        "model = dtc.fit(x_train, y_train)\n",
        "predict1 = model.predict(test)"
      ],
      "metadata": {
        "id": "F8hQpcohGd3E"
      },
      "execution_count": 198,
      "outputs": []
    },
    {
      "cell_type": "code",
      "source": [
        "submit = pd.DataFrame(data = predict1, columns = y_train.columns)\n",
        "display(submit.head(5))\n",
        "submit.to_csv('result.csv')"
      ],
      "metadata": {
        "colab": {
          "base_uri": "https://localhost:8080/",
          "height": 206
        },
        "id": "fQ_yi-n6Gl43",
        "outputId": "d673d40f-1600-4412-b50a-11bfad0b729f"
      },
      "execution_count": 199,
      "outputs": [
        {
          "output_type": "display_data",
          "data": {
            "text/plain": [
              "     ID  pose\n",
              "0  5791     1\n",
              "1  1235     1\n",
              "2   350     1\n",
              "3  1124     1\n",
              "4  5278     0"
            ],
            "text/html": [
              "\n",
              "  <div id=\"df-98b23a44-f8de-4d4a-81e2-217f04a8d858\" class=\"colab-df-container\">\n",
              "    <div>\n",
              "<style scoped>\n",
              "    .dataframe tbody tr th:only-of-type {\n",
              "        vertical-align: middle;\n",
              "    }\n",
              "\n",
              "    .dataframe tbody tr th {\n",
              "        vertical-align: top;\n",
              "    }\n",
              "\n",
              "    .dataframe thead th {\n",
              "        text-align: right;\n",
              "    }\n",
              "</style>\n",
              "<table border=\"1\" class=\"dataframe\">\n",
              "  <thead>\n",
              "    <tr style=\"text-align: right;\">\n",
              "      <th></th>\n",
              "      <th>ID</th>\n",
              "      <th>pose</th>\n",
              "    </tr>\n",
              "  </thead>\n",
              "  <tbody>\n",
              "    <tr>\n",
              "      <th>0</th>\n",
              "      <td>5791</td>\n",
              "      <td>1</td>\n",
              "    </tr>\n",
              "    <tr>\n",
              "      <th>1</th>\n",
              "      <td>1235</td>\n",
              "      <td>1</td>\n",
              "    </tr>\n",
              "    <tr>\n",
              "      <th>2</th>\n",
              "      <td>350</td>\n",
              "      <td>1</td>\n",
              "    </tr>\n",
              "    <tr>\n",
              "      <th>3</th>\n",
              "      <td>1124</td>\n",
              "      <td>1</td>\n",
              "    </tr>\n",
              "    <tr>\n",
              "      <th>4</th>\n",
              "      <td>5278</td>\n",
              "      <td>0</td>\n",
              "    </tr>\n",
              "  </tbody>\n",
              "</table>\n",
              "</div>\n",
              "    <div class=\"colab-df-buttons\">\n",
              "\n",
              "  <div class=\"colab-df-container\">\n",
              "    <button class=\"colab-df-convert\" onclick=\"convertToInteractive('df-98b23a44-f8de-4d4a-81e2-217f04a8d858')\"\n",
              "            title=\"Convert this dataframe to an interactive table.\"\n",
              "            style=\"display:none;\">\n",
              "\n",
              "  <svg xmlns=\"http://www.w3.org/2000/svg\" height=\"24px\" viewBox=\"0 -960 960 960\">\n",
              "    <path d=\"M120-120v-720h720v720H120Zm60-500h600v-160H180v160Zm220 220h160v-160H400v160Zm0 220h160v-160H400v160ZM180-400h160v-160H180v160Zm440 0h160v-160H620v160ZM180-180h160v-160H180v160Zm440 0h160v-160H620v160Z\"/>\n",
              "  </svg>\n",
              "    </button>\n",
              "\n",
              "  <style>\n",
              "    .colab-df-container {\n",
              "      display:flex;\n",
              "      gap: 12px;\n",
              "    }\n",
              "\n",
              "    .colab-df-convert {\n",
              "      background-color: #E8F0FE;\n",
              "      border: none;\n",
              "      border-radius: 50%;\n",
              "      cursor: pointer;\n",
              "      display: none;\n",
              "      fill: #1967D2;\n",
              "      height: 32px;\n",
              "      padding: 0 0 0 0;\n",
              "      width: 32px;\n",
              "    }\n",
              "\n",
              "    .colab-df-convert:hover {\n",
              "      background-color: #E2EBFA;\n",
              "      box-shadow: 0px 1px 2px rgba(60, 64, 67, 0.3), 0px 1px 3px 1px rgba(60, 64, 67, 0.15);\n",
              "      fill: #174EA6;\n",
              "    }\n",
              "\n",
              "    .colab-df-buttons div {\n",
              "      margin-bottom: 4px;\n",
              "    }\n",
              "\n",
              "    [theme=dark] .colab-df-convert {\n",
              "      background-color: #3B4455;\n",
              "      fill: #D2E3FC;\n",
              "    }\n",
              "\n",
              "    [theme=dark] .colab-df-convert:hover {\n",
              "      background-color: #434B5C;\n",
              "      box-shadow: 0px 1px 3px 1px rgba(0, 0, 0, 0.15);\n",
              "      filter: drop-shadow(0px 1px 2px rgba(0, 0, 0, 0.3));\n",
              "      fill: #FFFFFF;\n",
              "    }\n",
              "  </style>\n",
              "\n",
              "    <script>\n",
              "      const buttonEl =\n",
              "        document.querySelector('#df-98b23a44-f8de-4d4a-81e2-217f04a8d858 button.colab-df-convert');\n",
              "      buttonEl.style.display =\n",
              "        google.colab.kernel.accessAllowed ? 'block' : 'none';\n",
              "\n",
              "      async function convertToInteractive(key) {\n",
              "        const element = document.querySelector('#df-98b23a44-f8de-4d4a-81e2-217f04a8d858');\n",
              "        const dataTable =\n",
              "          await google.colab.kernel.invokeFunction('convertToInteractive',\n",
              "                                                    [key], {});\n",
              "        if (!dataTable) return;\n",
              "\n",
              "        const docLinkHtml = 'Like what you see? Visit the ' +\n",
              "          '<a target=\"_blank\" href=https://colab.research.google.com/notebooks/data_table.ipynb>data table notebook</a>'\n",
              "          + ' to learn more about interactive tables.';\n",
              "        element.innerHTML = '';\n",
              "        dataTable['output_type'] = 'display_data';\n",
              "        await google.colab.output.renderOutput(dataTable, element);\n",
              "        const docLink = document.createElement('div');\n",
              "        docLink.innerHTML = docLinkHtml;\n",
              "        element.appendChild(docLink);\n",
              "      }\n",
              "    </script>\n",
              "  </div>\n",
              "\n",
              "\n",
              "<div id=\"df-f21afcd6-af5d-4757-8b3c-3a44327240a0\">\n",
              "  <button class=\"colab-df-quickchart\" onclick=\"quickchart('df-f21afcd6-af5d-4757-8b3c-3a44327240a0')\"\n",
              "            title=\"Suggest charts\"\n",
              "            style=\"display:none;\">\n",
              "\n",
              "<svg xmlns=\"http://www.w3.org/2000/svg\" height=\"24px\"viewBox=\"0 0 24 24\"\n",
              "     width=\"24px\">\n",
              "    <g>\n",
              "        <path d=\"M19 3H5c-1.1 0-2 .9-2 2v14c0 1.1.9 2 2 2h14c1.1 0 2-.9 2-2V5c0-1.1-.9-2-2-2zM9 17H7v-7h2v7zm4 0h-2V7h2v10zm4 0h-2v-4h2v4z\"/>\n",
              "    </g>\n",
              "</svg>\n",
              "  </button>\n",
              "\n",
              "<style>\n",
              "  .colab-df-quickchart {\n",
              "      --bg-color: #E8F0FE;\n",
              "      --fill-color: #1967D2;\n",
              "      --hover-bg-color: #E2EBFA;\n",
              "      --hover-fill-color: #174EA6;\n",
              "      --disabled-fill-color: #AAA;\n",
              "      --disabled-bg-color: #DDD;\n",
              "  }\n",
              "\n",
              "  [theme=dark] .colab-df-quickchart {\n",
              "      --bg-color: #3B4455;\n",
              "      --fill-color: #D2E3FC;\n",
              "      --hover-bg-color: #434B5C;\n",
              "      --hover-fill-color: #FFFFFF;\n",
              "      --disabled-bg-color: #3B4455;\n",
              "      --disabled-fill-color: #666;\n",
              "  }\n",
              "\n",
              "  .colab-df-quickchart {\n",
              "    background-color: var(--bg-color);\n",
              "    border: none;\n",
              "    border-radius: 50%;\n",
              "    cursor: pointer;\n",
              "    display: none;\n",
              "    fill: var(--fill-color);\n",
              "    height: 32px;\n",
              "    padding: 0;\n",
              "    width: 32px;\n",
              "  }\n",
              "\n",
              "  .colab-df-quickchart:hover {\n",
              "    background-color: var(--hover-bg-color);\n",
              "    box-shadow: 0 1px 2px rgba(60, 64, 67, 0.3), 0 1px 3px 1px rgba(60, 64, 67, 0.15);\n",
              "    fill: var(--button-hover-fill-color);\n",
              "  }\n",
              "\n",
              "  .colab-df-quickchart-complete:disabled,\n",
              "  .colab-df-quickchart-complete:disabled:hover {\n",
              "    background-color: var(--disabled-bg-color);\n",
              "    fill: var(--disabled-fill-color);\n",
              "    box-shadow: none;\n",
              "  }\n",
              "\n",
              "  .colab-df-spinner {\n",
              "    border: 2px solid var(--fill-color);\n",
              "    border-color: transparent;\n",
              "    border-bottom-color: var(--fill-color);\n",
              "    animation:\n",
              "      spin 1s steps(1) infinite;\n",
              "  }\n",
              "\n",
              "  @keyframes spin {\n",
              "    0% {\n",
              "      border-color: transparent;\n",
              "      border-bottom-color: var(--fill-color);\n",
              "      border-left-color: var(--fill-color);\n",
              "    }\n",
              "    20% {\n",
              "      border-color: transparent;\n",
              "      border-left-color: var(--fill-color);\n",
              "      border-top-color: var(--fill-color);\n",
              "    }\n",
              "    30% {\n",
              "      border-color: transparent;\n",
              "      border-left-color: var(--fill-color);\n",
              "      border-top-color: var(--fill-color);\n",
              "      border-right-color: var(--fill-color);\n",
              "    }\n",
              "    40% {\n",
              "      border-color: transparent;\n",
              "      border-right-color: var(--fill-color);\n",
              "      border-top-color: var(--fill-color);\n",
              "    }\n",
              "    60% {\n",
              "      border-color: transparent;\n",
              "      border-right-color: var(--fill-color);\n",
              "    }\n",
              "    80% {\n",
              "      border-color: transparent;\n",
              "      border-right-color: var(--fill-color);\n",
              "      border-bottom-color: var(--fill-color);\n",
              "    }\n",
              "    90% {\n",
              "      border-color: transparent;\n",
              "      border-bottom-color: var(--fill-color);\n",
              "    }\n",
              "  }\n",
              "</style>\n",
              "\n",
              "  <script>\n",
              "    async function quickchart(key) {\n",
              "      const quickchartButtonEl =\n",
              "        document.querySelector('#' + key + ' button');\n",
              "      quickchartButtonEl.disabled = true;  // To prevent multiple clicks.\n",
              "      quickchartButtonEl.classList.add('colab-df-spinner');\n",
              "      try {\n",
              "        const charts = await google.colab.kernel.invokeFunction(\n",
              "            'suggestCharts', [key], {});\n",
              "      } catch (error) {\n",
              "        console.error('Error during call to suggestCharts:', error);\n",
              "      }\n",
              "      quickchartButtonEl.classList.remove('colab-df-spinner');\n",
              "      quickchartButtonEl.classList.add('colab-df-quickchart-complete');\n",
              "    }\n",
              "    (() => {\n",
              "      let quickchartButtonEl =\n",
              "        document.querySelector('#df-f21afcd6-af5d-4757-8b3c-3a44327240a0 button');\n",
              "      quickchartButtonEl.style.display =\n",
              "        google.colab.kernel.accessAllowed ? 'block' : 'none';\n",
              "    })();\n",
              "  </script>\n",
              "</div>\n",
              "    </div>\n",
              "  </div>\n"
            ]
          },
          "metadata": {}
        }
      ]
    }
  ]
}