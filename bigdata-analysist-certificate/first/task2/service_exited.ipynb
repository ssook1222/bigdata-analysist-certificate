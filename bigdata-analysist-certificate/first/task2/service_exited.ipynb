{
  "cells": [
    {
      "cell_type": "markdown",
      "metadata": {
        "id": "view-in-github",
        "colab_type": "text"
      },
      "source": [
        "<a href=\"https://colab.research.google.com/github/ssook1222/bigdata-analysist-certificate/blob/master/bigdata-analysist-certificate/task2/service_exited.ipynb\" target=\"_parent\"><img src=\"https://colab.research.google.com/assets/colab-badge.svg\" alt=\"Open In Colab\"/></a>"
      ]
    },
    {
      "cell_type": "code",
      "execution_count": null,
      "id": "e028371a",
      "metadata": {
        "_cell_guid": "b1076dfc-b9ad-4769-8c92-a6c4dae69d19",
        "_uuid": "8f2839f25d086af736a60e9eeb907d3b93b6e0e5",
        "execution": {
          "iopub.execute_input": "2023-11-03T04:47:18.415967Z",
          "iopub.status.busy": "2023-11-03T04:47:18.415363Z",
          "iopub.status.idle": "2023-11-03T04:47:18.836020Z",
          "shell.execute_reply": "2023-11-03T04:47:18.835130Z"
        },
        "papermill": {
          "duration": 0.431299,
          "end_time": "2023-11-03T04:47:18.838823",
          "exception": false,
          "start_time": "2023-11-03T04:47:18.407524",
          "status": "completed"
        },
        "tags": [],
        "id": "e028371a",
        "outputId": "ef421d4a-c363-4c04-988f-22eca94f594b"
      },
      "outputs": [
        {
          "name": "stdout",
          "output_type": "stream",
          "text": [
            "/kaggle/input/churn-model-data-set-competition-form/X_test.csv\n",
            "/kaggle/input/churn-model-data-set-competition-form/y_train.csv\n",
            "/kaggle/input/churn-model-data-set-competition-form/X_train.csv\n",
            "/kaggle/input/churn-model-data-set-competition-form/test_label/y_test.csv\n"
          ]
        }
      ],
      "source": [
        "# This Python 3 environment comes with many helpful analytics libraries installed\n",
        "# It is defined by the kaggle/python Docker image: https://github.com/kaggle/docker-python\n",
        "# For example, here's several helpful packages to load\n",
        "\n",
        "import numpy as np # linear algebra\n",
        "import pandas as pd # data processing, CSV file I/O (e.g. pd.read_csv)\n",
        "\n",
        "# Input data files are available in the read-only \"../input/\" directory\n",
        "# For example, running this (by clicking run or pressing Shift+Enter) will list all files under the input directory\n",
        "\n",
        "import os\n",
        "for dirname, _, filenames in os.walk('/kaggle/input'):\n",
        "    for filename in filenames:\n",
        "        print(os.path.join(dirname, filename))\n",
        "\n",
        "# You can write up to 20GB to the current directory (/kaggle/working/) that gets preserved as output when you create a version using \"Save & Run All\"\n",
        "# You can also write temporary files to /kaggle/temp/, but they won't be saved outside of the current session"
      ]
    },
    {
      "cell_type": "code",
      "execution_count": null,
      "id": "ef2911c0",
      "metadata": {
        "execution": {
          "iopub.execute_input": "2023-11-03T04:47:18.855134Z",
          "iopub.status.busy": "2023-11-03T04:47:18.854407Z",
          "iopub.status.idle": "2023-11-03T04:47:20.661208Z",
          "shell.execute_reply": "2023-11-03T04:47:20.659634Z"
        },
        "papermill": {
          "duration": 1.817076,
          "end_time": "2023-11-03T04:47:20.664239",
          "exception": false,
          "start_time": "2023-11-03T04:47:18.847163",
          "status": "completed"
        },
        "tags": [],
        "id": "ef2911c0"
      },
      "outputs": [],
      "source": [
        "from sklearn.preprocessing import LabelEncoder\n",
        "from sklearn.preprocessing import StandardScaler\n",
        "from sklearn.ensemble import RandomForestClassifier\n",
        "from sklearn.model_selection import GridSearchCV\n",
        "from sklearn.metrics import accuracy_score, roc_auc_score"
      ]
    },
    {
      "cell_type": "code",
      "execution_count": null,
      "id": "542ae1ec",
      "metadata": {
        "execution": {
          "iopub.execute_input": "2023-11-03T04:47:20.677601Z",
          "iopub.status.busy": "2023-11-03T04:47:20.677154Z",
          "iopub.status.idle": "2023-11-03T04:47:20.740944Z",
          "shell.execute_reply": "2023-11-03T04:47:20.739750Z"
        },
        "papermill": {
          "duration": 0.073628,
          "end_time": "2023-11-03T04:47:20.743748",
          "exception": false,
          "start_time": "2023-11-03T04:47:20.670120",
          "status": "completed"
        },
        "tags": [],
        "id": "542ae1ec"
      },
      "outputs": [],
      "source": [
        "X_train  = pd.read_csv('/kaggle/input/churn-model-data-set-competition-form/X_train.csv')\n",
        "X_test  = pd.read_csv('/kaggle/input/churn-model-data-set-competition-form/X_test.csv')\n",
        "\n",
        "y_train  = pd.read_csv('/kaggle/input/churn-model-data-set-competition-form/y_train.csv')\n",
        "y_test = pd.read_csv('/kaggle/input/churn-model-data-set-competition-form/test_label/y_test.csv')"
      ]
    },
    {
      "cell_type": "code",
      "execution_count": null,
      "id": "de9d2fa6",
      "metadata": {
        "execution": {
          "iopub.execute_input": "2023-11-03T04:47:20.757810Z",
          "iopub.status.busy": "2023-11-03T04:47:20.756653Z",
          "iopub.status.idle": "2023-11-03T04:47:20.777393Z",
          "shell.execute_reply": "2023-11-03T04:47:20.776338Z"
        },
        "papermill": {
          "duration": 0.03047,
          "end_time": "2023-11-03T04:47:20.780178",
          "exception": false,
          "start_time": "2023-11-03T04:47:20.749708",
          "status": "completed"
        },
        "tags": [],
        "id": "de9d2fa6"
      },
      "outputs": [],
      "source": [
        "le = LabelEncoder()\n",
        "X_train['Geography'] = le.fit_transform(X_train['Geography'])\n",
        "X_test['Geography'] = le.fit_transform(X_test['Geography'])\n",
        "\n",
        "X_train['Gender'] = le.fit_transform(X_train['Gender'])\n",
        "X_test['Gender'] = le.fit_transform(X_test['Gender'])"
      ]
    },
    {
      "cell_type": "code",
      "execution_count": null,
      "id": "5c7702d3",
      "metadata": {
        "execution": {
          "iopub.execute_input": "2023-11-03T04:47:20.793450Z",
          "iopub.status.busy": "2023-11-03T04:47:20.792812Z",
          "iopub.status.idle": "2023-11-03T04:47:20.815357Z",
          "shell.execute_reply": "2023-11-03T04:47:20.814393Z"
        },
        "papermill": {
          "duration": 0.031788,
          "end_time": "2023-11-03T04:47:20.817730",
          "exception": false,
          "start_time": "2023-11-03T04:47:20.785942",
          "status": "completed"
        },
        "tags": [],
        "id": "5c7702d3"
      },
      "outputs": [],
      "source": [
        "X_train = X_train[['CustomerId', 'CreditScore', 'Geography', 'Gender', 'Age','Tenure', 'Balance', 'NumOfProducts', 'HasCrCard', 'IsActiveMember','EstimatedSalary']]\n",
        "X_test =  X_test[['CustomerId', 'CreditScore', 'Geography', 'Gender', 'Age','Tenure', 'Balance', 'NumOfProducts', 'HasCrCard', 'IsActiveMember','EstimatedSalary']]\n",
        "\n",
        "y_train = y_train.sort_values('CustomerId')\n",
        "X_train = X_train.sort_values('CustomerId')\n",
        "\n",
        "y_test = y_test.sort_values('CustomerId')\n",
        "X_test = X_test.sort_values('CustomerId')\n",
        "\n",
        "y_train = y_train['Exited']\n",
        "y_test = y_test['Exited']"
      ]
    },
    {
      "cell_type": "code",
      "execution_count": null,
      "id": "ba8ac27a",
      "metadata": {
        "execution": {
          "iopub.execute_input": "2023-11-03T04:47:20.831007Z",
          "iopub.status.busy": "2023-11-03T04:47:20.830628Z",
          "iopub.status.idle": "2023-11-03T04:47:20.838777Z",
          "shell.execute_reply": "2023-11-03T04:47:20.837623Z"
        },
        "papermill": {
          "duration": 0.017798,
          "end_time": "2023-11-03T04:47:20.841228",
          "exception": false,
          "start_time": "2023-11-03T04:47:20.823430",
          "status": "completed"
        },
        "tags": [],
        "id": "ba8ac27a",
        "outputId": "505afd5a-be5c-4b3e-d5e6-b1b9805bf6f0"
      },
      "outputs": [
        {
          "data": {
            "text/plain": [
              "Index(['CustomerId', 'CreditScore', 'Geography', 'Gender', 'Age', 'Tenure',\n",
              "       'Balance', 'NumOfProducts', 'HasCrCard', 'IsActiveMember',\n",
              "       'EstimatedSalary'],\n",
              "      dtype='object')"
            ]
          },
          "execution_count": 6,
          "metadata": {},
          "output_type": "execute_result"
        }
      ],
      "source": [
        "X_train.columns"
      ]
    },
    {
      "cell_type": "code",
      "execution_count": null,
      "id": "7187a5ba",
      "metadata": {
        "execution": {
          "iopub.execute_input": "2023-11-03T04:47:20.854750Z",
          "iopub.status.busy": "2023-11-03T04:47:20.854373Z",
          "iopub.status.idle": "2023-11-03T04:47:20.872287Z",
          "shell.execute_reply": "2023-11-03T04:47:20.871190Z"
        },
        "papermill": {
          "duration": 0.027858,
          "end_time": "2023-11-03T04:47:20.874909",
          "exception": false,
          "start_time": "2023-11-03T04:47:20.847051",
          "status": "completed"
        },
        "tags": [],
        "id": "7187a5ba"
      },
      "outputs": [],
      "source": [
        "scale_list = ['CreditScore', 'Age', 'Tenure', 'Balance', 'NumOfProducts', 'HasCrCard', 'IsActiveMember', 'EstimatedSalary']\n",
        "\n",
        "scaler = StandardScaler()\n",
        "X_train[scale_list] = scaler.fit_transform(X_train[scale_list])\n",
        "X_test[scale_list] = scaler.transform(X_test[scale_list])"
      ]
    },
    {
      "cell_type": "code",
      "execution_count": null,
      "id": "04e7681a",
      "metadata": {
        "execution": {
          "iopub.execute_input": "2023-11-03T04:47:20.888814Z",
          "iopub.status.busy": "2023-11-03T04:47:20.888437Z",
          "iopub.status.idle": "2023-11-03T04:47:20.892930Z",
          "shell.execute_reply": "2023-11-03T04:47:20.891817Z"
        },
        "papermill": {
          "duration": 0.014364,
          "end_time": "2023-11-03T04:47:20.895318",
          "exception": false,
          "start_time": "2023-11-03T04:47:20.880954",
          "status": "completed"
        },
        "tags": [],
        "id": "04e7681a"
      },
      "outputs": [],
      "source": [
        "rf = RandomForestClassifier(random_state=1)"
      ]
    },
    {
      "cell_type": "code",
      "execution_count": null,
      "id": "01283423",
      "metadata": {
        "execution": {
          "iopub.execute_input": "2023-11-03T04:47:20.908805Z",
          "iopub.status.busy": "2023-11-03T04:47:20.908430Z",
          "iopub.status.idle": "2023-11-03T04:47:20.914012Z",
          "shell.execute_reply": "2023-11-03T04:47:20.912927Z"
        },
        "papermill": {
          "duration": 0.015149,
          "end_time": "2023-11-03T04:47:20.916350",
          "exception": false,
          "start_time": "2023-11-03T04:47:20.901201",
          "status": "completed"
        },
        "tags": [],
        "id": "01283423"
      },
      "outputs": [],
      "source": [
        "params = {\"n_estimators\":[100,200,300,400,500], \"max_depth\":[1,2,3,4,5]}\n",
        "gs = GridSearchCV(rf, param_grid=params, cv = 5, scoring=\"roc_auc\", n_jobs=4)"
      ]
    },
    {
      "cell_type": "code",
      "execution_count": null,
      "id": "c5518d45",
      "metadata": {
        "execution": {
          "iopub.execute_input": "2023-11-03T04:47:20.929777Z",
          "iopub.status.busy": "2023-11-03T04:47:20.929398Z",
          "iopub.status.idle": "2023-11-03T04:48:29.479482Z",
          "shell.execute_reply": "2023-11-03T04:48:29.478444Z"
        },
        "papermill": {
          "duration": 68.564563,
          "end_time": "2023-11-03T04:48:29.486772",
          "exception": false,
          "start_time": "2023-11-03T04:47:20.922209",
          "status": "completed"
        },
        "tags": [],
        "id": "c5518d45",
        "outputId": "73af59bc-d63b-4ad2-c5e3-9d85fa90ed3d"
      },
      "outputs": [
        {
          "data": {
            "text/html": [
              "<style>#sk-container-id-1 {color: black;background-color: white;}#sk-container-id-1 pre{padding: 0;}#sk-container-id-1 div.sk-toggleable {background-color: white;}#sk-container-id-1 label.sk-toggleable__label {cursor: pointer;display: block;width: 100%;margin-bottom: 0;padding: 0.3em;box-sizing: border-box;text-align: center;}#sk-container-id-1 label.sk-toggleable__label-arrow:before {content: \"▸\";float: left;margin-right: 0.25em;color: #696969;}#sk-container-id-1 label.sk-toggleable__label-arrow:hover:before {color: black;}#sk-container-id-1 div.sk-estimator:hover label.sk-toggleable__label-arrow:before {color: black;}#sk-container-id-1 div.sk-toggleable__content {max-height: 0;max-width: 0;overflow: hidden;text-align: left;background-color: #f0f8ff;}#sk-container-id-1 div.sk-toggleable__content pre {margin: 0.2em;color: black;border-radius: 0.25em;background-color: #f0f8ff;}#sk-container-id-1 input.sk-toggleable__control:checked~div.sk-toggleable__content {max-height: 200px;max-width: 100%;overflow: auto;}#sk-container-id-1 input.sk-toggleable__control:checked~label.sk-toggleable__label-arrow:before {content: \"▾\";}#sk-container-id-1 div.sk-estimator input.sk-toggleable__control:checked~label.sk-toggleable__label {background-color: #d4ebff;}#sk-container-id-1 div.sk-label input.sk-toggleable__control:checked~label.sk-toggleable__label {background-color: #d4ebff;}#sk-container-id-1 input.sk-hidden--visually {border: 0;clip: rect(1px 1px 1px 1px);clip: rect(1px, 1px, 1px, 1px);height: 1px;margin: -1px;overflow: hidden;padding: 0;position: absolute;width: 1px;}#sk-container-id-1 div.sk-estimator {font-family: monospace;background-color: #f0f8ff;border: 1px dotted black;border-radius: 0.25em;box-sizing: border-box;margin-bottom: 0.5em;}#sk-container-id-1 div.sk-estimator:hover {background-color: #d4ebff;}#sk-container-id-1 div.sk-parallel-item::after {content: \"\";width: 100%;border-bottom: 1px solid gray;flex-grow: 1;}#sk-container-id-1 div.sk-label:hover label.sk-toggleable__label {background-color: #d4ebff;}#sk-container-id-1 div.sk-serial::before {content: \"\";position: absolute;border-left: 1px solid gray;box-sizing: border-box;top: 0;bottom: 0;left: 50%;z-index: 0;}#sk-container-id-1 div.sk-serial {display: flex;flex-direction: column;align-items: center;background-color: white;padding-right: 0.2em;padding-left: 0.2em;position: relative;}#sk-container-id-1 div.sk-item {position: relative;z-index: 1;}#sk-container-id-1 div.sk-parallel {display: flex;align-items: stretch;justify-content: center;background-color: white;position: relative;}#sk-container-id-1 div.sk-item::before, #sk-container-id-1 div.sk-parallel-item::before {content: \"\";position: absolute;border-left: 1px solid gray;box-sizing: border-box;top: 0;bottom: 0;left: 50%;z-index: -1;}#sk-container-id-1 div.sk-parallel-item {display: flex;flex-direction: column;z-index: 1;position: relative;background-color: white;}#sk-container-id-1 div.sk-parallel-item:first-child::after {align-self: flex-end;width: 50%;}#sk-container-id-1 div.sk-parallel-item:last-child::after {align-self: flex-start;width: 50%;}#sk-container-id-1 div.sk-parallel-item:only-child::after {width: 0;}#sk-container-id-1 div.sk-dashed-wrapped {border: 1px dashed gray;margin: 0 0.4em 0.5em 0.4em;box-sizing: border-box;padding-bottom: 0.4em;background-color: white;}#sk-container-id-1 div.sk-label label {font-family: monospace;font-weight: bold;display: inline-block;line-height: 1.2em;}#sk-container-id-1 div.sk-label-container {text-align: center;}#sk-container-id-1 div.sk-container {/* jupyter's `normalize.less` sets `[hidden] { display: none; }` but bootstrap.min.css set `[hidden] { display: none !important; }` so we also need the `!important` here to be able to override the default hidden behavior on the sphinx rendered scikit-learn.org. See: https://github.com/scikit-learn/scikit-learn/issues/21755 */display: inline-block !important;position: relative;}#sk-container-id-1 div.sk-text-repr-fallback {display: none;}</style><div id=\"sk-container-id-1\" class=\"sk-top-container\"><div class=\"sk-text-repr-fallback\"><pre>GridSearchCV(cv=5, estimator=RandomForestClassifier(random_state=1), n_jobs=4,\n",
              "             param_grid={&#x27;max_depth&#x27;: [1, 2, 3, 4, 5],\n",
              "                         &#x27;n_estimators&#x27;: [100, 200, 300, 400, 500]},\n",
              "             scoring=&#x27;roc_auc&#x27;)</pre><b>In a Jupyter environment, please rerun this cell to show the HTML representation or trust the notebook. <br />On GitHub, the HTML representation is unable to render, please try loading this page with nbviewer.org.</b></div><div class=\"sk-container\" hidden><div class=\"sk-item sk-dashed-wrapped\"><div class=\"sk-label-container\"><div class=\"sk-label sk-toggleable\"><input class=\"sk-toggleable__control sk-hidden--visually\" id=\"sk-estimator-id-1\" type=\"checkbox\" ><label for=\"sk-estimator-id-1\" class=\"sk-toggleable__label sk-toggleable__label-arrow\">GridSearchCV</label><div class=\"sk-toggleable__content\"><pre>GridSearchCV(cv=5, estimator=RandomForestClassifier(random_state=1), n_jobs=4,\n",
              "             param_grid={&#x27;max_depth&#x27;: [1, 2, 3, 4, 5],\n",
              "                         &#x27;n_estimators&#x27;: [100, 200, 300, 400, 500]},\n",
              "             scoring=&#x27;roc_auc&#x27;)</pre></div></div></div><div class=\"sk-parallel\"><div class=\"sk-parallel-item\"><div class=\"sk-item\"><div class=\"sk-label-container\"><div class=\"sk-label sk-toggleable\"><input class=\"sk-toggleable__control sk-hidden--visually\" id=\"sk-estimator-id-2\" type=\"checkbox\" ><label for=\"sk-estimator-id-2\" class=\"sk-toggleable__label sk-toggleable__label-arrow\">estimator: RandomForestClassifier</label><div class=\"sk-toggleable__content\"><pre>RandomForestClassifier(random_state=1)</pre></div></div></div><div class=\"sk-serial\"><div class=\"sk-item\"><div class=\"sk-estimator sk-toggleable\"><input class=\"sk-toggleable__control sk-hidden--visually\" id=\"sk-estimator-id-3\" type=\"checkbox\" ><label for=\"sk-estimator-id-3\" class=\"sk-toggleable__label sk-toggleable__label-arrow\">RandomForestClassifier</label><div class=\"sk-toggleable__content\"><pre>RandomForestClassifier(random_state=1)</pre></div></div></div></div></div></div></div></div></div></div>"
            ],
            "text/plain": [
              "GridSearchCV(cv=5, estimator=RandomForestClassifier(random_state=1), n_jobs=4,\n",
              "             param_grid={'max_depth': [1, 2, 3, 4, 5],\n",
              "                         'n_estimators': [100, 200, 300, 400, 500]},\n",
              "             scoring='roc_auc')"
            ]
          },
          "execution_count": 10,
          "metadata": {},
          "output_type": "execute_result"
        }
      ],
      "source": [
        "gs.fit(X_train, y_train)"
      ]
    },
    {
      "cell_type": "code",
      "execution_count": null,
      "id": "33cb8764",
      "metadata": {
        "execution": {
          "iopub.execute_input": "2023-11-03T04:48:29.501566Z",
          "iopub.status.busy": "2023-11-03T04:48:29.500953Z",
          "iopub.status.idle": "2023-11-03T04:48:29.506040Z",
          "shell.execute_reply": "2023-11-03T04:48:29.505104Z"
        },
        "papermill": {
          "duration": 0.015258,
          "end_time": "2023-11-03T04:48:29.508315",
          "exception": false,
          "start_time": "2023-11-03T04:48:29.493057",
          "status": "completed"
        },
        "tags": [],
        "id": "33cb8764",
        "outputId": "9801e095-fc71-4853-d494-14f1c35c6e13"
      },
      "outputs": [
        {
          "name": "stdout",
          "output_type": "stream",
          "text": [
            "score : 0.8473714531146852\n"
          ]
        }
      ],
      "source": [
        "print(f\"score : {gs.best_score_}\")"
      ]
    },
    {
      "cell_type": "code",
      "execution_count": null,
      "id": "3e1a85e6",
      "metadata": {
        "execution": {
          "iopub.execute_input": "2023-11-03T04:48:29.523100Z",
          "iopub.status.busy": "2023-11-03T04:48:29.521989Z",
          "iopub.status.idle": "2023-11-03T04:48:29.741504Z",
          "shell.execute_reply": "2023-11-03T04:48:29.740336Z"
        },
        "papermill": {
          "duration": 0.2298,
          "end_time": "2023-11-03T04:48:29.744371",
          "exception": false,
          "start_time": "2023-11-03T04:48:29.514571",
          "status": "completed"
        },
        "tags": [],
        "id": "3e1a85e6"
      },
      "outputs": [],
      "source": [
        "test_predict = gs.predict(X_test)\n",
        "test_predict_prob = gs.predict_proba(X_test)"
      ]
    },
    {
      "cell_type": "code",
      "execution_count": null,
      "id": "18b97fb5",
      "metadata": {
        "execution": {
          "iopub.execute_input": "2023-11-03T04:48:29.759305Z",
          "iopub.status.busy": "2023-11-03T04:48:29.758227Z",
          "iopub.status.idle": "2023-11-03T04:48:29.769463Z",
          "shell.execute_reply": "2023-11-03T04:48:29.768294Z"
        },
        "papermill": {
          "duration": 0.021056,
          "end_time": "2023-11-03T04:48:29.771806",
          "exception": false,
          "start_time": "2023-11-03T04:48:29.750750",
          "status": "completed"
        },
        "tags": [],
        "id": "18b97fb5",
        "outputId": "420a201c-94a3-45c8-cc02-48ffb9a8991c"
      },
      "outputs": [
        {
          "name": "stdout",
          "output_type": "stream",
          "text": [
            "accuracy_score: 0.8546129677235076\n",
            "roc_auc_score: 0.8462318974728399\n"
          ]
        }
      ],
      "source": [
        "print(f\"accuracy_score:\", accuracy_score(y_test, test_predict))\n",
        "print(f\"roc_auc_score:\", roc_auc_score(y_test, test_predict_prob[:,1]))"
      ]
    },
    {
      "cell_type": "code",
      "execution_count": null,
      "id": "e1f3e200",
      "metadata": {
        "execution": {
          "iopub.execute_input": "2023-11-03T04:48:29.788370Z",
          "iopub.status.busy": "2023-11-03T04:48:29.787468Z",
          "iopub.status.idle": "2023-11-03T04:48:29.799190Z",
          "shell.execute_reply": "2023-11-03T04:48:29.798101Z"
        },
        "papermill": {
          "duration": 0.02256,
          "end_time": "2023-11-03T04:48:29.801539",
          "exception": false,
          "start_time": "2023-11-03T04:48:29.778979",
          "status": "completed"
        },
        "tags": [],
        "id": "e1f3e200",
        "outputId": "623aff26-a7f4-4f30-82cc-c2d5c9bf2741"
      },
      "outputs": [
        {
          "name": "stdout",
          "output_type": "stream",
          "text": [
            "      CustomerId    Exited\n",
            "2250    15565714  0.229153\n",
            "1398    15565796  0.564313\n",
            "2920    15565879  0.079852\n",
            "1274    15566251  0.165040\n",
            "2005    15566269  0.076956\n"
          ]
        }
      ],
      "source": [
        "submit = pd.DataFrame({\"CustomerId\": X_test['CustomerId'], \"Exited\" : test_predict_prob[:,1]})\n",
        "print(submit.head(5))"
      ]
    },
    {
      "cell_type": "code",
      "execution_count": null,
      "id": "0e5e4639",
      "metadata": {
        "execution": {
          "iopub.execute_input": "2023-11-03T04:48:29.816339Z",
          "iopub.status.busy": "2023-11-03T04:48:29.815624Z",
          "iopub.status.idle": "2023-11-03T04:48:29.839513Z",
          "shell.execute_reply": "2023-11-03T04:48:29.838337Z"
        },
        "papermill": {
          "duration": 0.03444,
          "end_time": "2023-11-03T04:48:29.842337",
          "exception": false,
          "start_time": "2023-11-03T04:48:29.807897",
          "status": "completed"
        },
        "tags": [],
        "id": "0e5e4639"
      },
      "outputs": [],
      "source": [
        "submit.to_csv(\"result.csv\", index = False)"
      ]
    }
  ],
  "metadata": {
    "kernelspec": {
      "display_name": "Python 3",
      "language": "python",
      "name": "python3"
    },
    "language_info": {
      "codemirror_mode": {
        "name": "ipython",
        "version": 3
      },
      "file_extension": ".py",
      "mimetype": "text/x-python",
      "name": "python",
      "nbconvert_exporter": "python",
      "pygments_lexer": "ipython3",
      "version": "3.10.12"
    },
    "papermill": {
      "default_parameters": {},
      "duration": 77.678393,
      "end_time": "2023-11-03T04:48:32.470135",
      "environment_variables": {},
      "exception": null,
      "input_path": "__notebook__.ipynb",
      "output_path": "__notebook__.ipynb",
      "parameters": {},
      "start_time": "2023-11-03T04:47:14.791742",
      "version": "2.4.0"
    },
    "colab": {
      "provenance": [],
      "include_colab_link": true
    }
  },
  "nbformat": 4,
  "nbformat_minor": 5
}