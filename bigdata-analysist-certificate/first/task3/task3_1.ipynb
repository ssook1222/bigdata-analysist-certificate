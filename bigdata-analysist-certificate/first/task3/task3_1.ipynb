{
  "nbformat": 4,
  "nbformat_minor": 0,
  "metadata": {
    "colab": {
      "provenance": [],
      "authorship_tag": "ABX9TyOSaoI2tFhLlsYwZoOF37sl",
      "include_colab_link": true
    },
    "kernelspec": {
      "name": "python3",
      "display_name": "Python 3"
    },
    "language_info": {
      "name": "python"
    }
  },
  "cells": [
    {
      "cell_type": "markdown",
      "metadata": {
        "id": "view-in-github",
        "colab_type": "text"
      },
      "source": [
        "<a href=\"https://colab.research.google.com/github/ssook1222/bigdata-analysist-certificate/blob/master/bigdata-analysist-certificate/task3/task3_1.ipynb\" target=\"_parent\"><img src=\"https://colab.research.google.com/assets/colab-badge.svg\" alt=\"Open In Colab\"/></a>"
      ]
    },
    {
      "cell_type": "markdown",
      "source": [
        "## scipy 튜토리얼"
      ],
      "metadata": {
        "id": "b7h7q_3ZotJq"
      }
    },
    {
      "cell_type": "markdown",
      "source": [
        "## 정규성 검정"
      ],
      "metadata": {
        "id": "4Ymt28UKoyet"
      }
    },
    {
      "cell_type": "markdown",
      "source": [
        "### Question 1\n",
        "\n",
        "다음 데이터의 정규성을 검증하라"
      ],
      "metadata": {
        "id": "JnJUQYWpozuv"
      }
    },
    {
      "cell_type": "markdown",
      "source": [
        "`shapiro` (샤피로 검정)     \n",
        "- 노말분포 가장 엄격하게 검정할 때 사용함.\n",
        "- 데이터수가 상대적으로 적을 때 사용함."
      ],
      "metadata": {
        "id": "ypUDVIUypBPc"
      }
    },
    {
      "cell_type": "code",
      "execution_count": 1,
      "metadata": {
        "colab": {
          "base_uri": "https://localhost:8080/",
          "height": 430
        },
        "id": "wArwcTjKoppd",
        "outputId": "7cbff975-af0b-4db0-bb9d-a03be9bf626f"
      },
      "outputs": [
        {
          "output_type": "display_data",
          "data": {
            "text/plain": [
              "<Figure size 640x480 with 1 Axes>"
            ],
            "image/png": "[encoded data removed]"
          },
          "metadata": {}
        }
      ],
      "source": [
        "import pandas as pd\n",
        "import matplotlib.pyplot as plt\n",
        "\n",
        "df = pd.read_csv('https://raw.githubusercontent.com/Datamanim/datarepo/main/scipy/normal1.csv')\n",
        "plt.hist(df)\n",
        "plt.show()"
      ]
    },
    {
      "cell_type": "code",
      "source": [
        "from scipy.stats import shapiro\n",
        "print(shapiro(df))"
      ],
      "metadata": {
        "colab": {
          "base_uri": "https://localhost:8080/"
        },
        "id": "w4kK-3y4o516",
        "outputId": "e6e1d3cf-d056-441b-ca9c-b9534e8616d7"
      },
      "execution_count": 2,
      "outputs": [
        {
          "output_type": "stream",
          "name": "stdout",
          "text": [
            "ShapiroResult(statistic=0.9981444478034973, pvalue=0.34849318861961365)\n"
          ]
        }
      ]
    },
    {
      "cell_type": "markdown",
      "source": [
        "샤피로 검정시 p-value가 0.34이므로 유의수준 5%에서 귀무가설(\"데이터는 정규성을 가진다\")을 기각할 수 없다"
      ],
      "metadata": {
        "id": "-QoOmllepNM_"
      }
    },
    {
      "cell_type": "markdown",
      "source": [
        "---"
      ],
      "metadata": {
        "id": "soUNCQ-HpKkl"
      }
    },
    {
      "cell_type": "markdown",
      "source": [
        "### Question 2\n",
        "\n",
        "다음 데이터의 정규성을 검증하라\n",
        "\n"
      ],
      "metadata": {
        "id": "n32oFmRUpQEJ"
      }
    },
    {
      "cell_type": "code",
      "source": [
        "import pandas as pd\n",
        "import matplotlib.pyplot as plt\n",
        "\n",
        "df = pd.read_csv('https://raw.githubusercontent.com/Datamanim/datarepo/main/scipy/normal3.csv')\n",
        "plt.hist(df)\n",
        "plt.show()"
      ],
      "metadata": {
        "colab": {
          "base_uri": "https://localhost:8080/",
          "height": 430
        },
        "id": "fF0PFp4qpTVt",
        "outputId": "ffad56ae-33a6-405e-a151-bfa6b5c17632"
      },
      "execution_count": 3,
      "outputs": [
        {
          "output_type": "display_data",
          "data": {
            "text/plain": [
              "<Figure size 640x480 with 1 Axes>"
            ],
            "image/png": "[encoded data removed]"
          },
          "metadata": {}
        }
      ]
    },
    {
      "cell_type": "code",
      "source": [
        "from scipy.stats import shapiro\n",
        "print(shapiro(df))"
      ],
      "metadata": {
        "colab": {
          "base_uri": "https://localhost:8080/"
        },
        "id": "ieJlVZU5pVIc",
        "outputId": "29ca4458-b2e7-4541-c2c8-20e16bcf6c27"
      },
      "execution_count": 4,
      "outputs": [
        {
          "output_type": "stream",
          "name": "stdout",
          "text": [
            "ShapiroResult(statistic=0.9578885436058044, pvalue=2.309641794969743e-16)\n"
          ]
        }
      ]
    },
    {
      "cell_type": "markdown",
      "source": [
        "샤피로 검정시 p-value가 2.30이므로 유의수준 5%에서 귀무가설(\"데이터는 정규성을 가진다\")을 기각할 수 있다."
      ],
      "metadata": {
        "id": "PAMFjIfBpYUN"
      }
    },
    {
      "cell_type": "markdown",
      "source": [
        "---"
      ],
      "metadata": {
        "id": "m4AeQQ2GpeSA"
      }
    },
    {
      "cell_type": "markdown",
      "source": [
        "### Question 3\n",
        "\n",
        "위의 데이터를 log변환 한 후에 정규성을 가지는지 확인하라"
      ],
      "metadata": {
        "id": "n3Th6RoUpfSq"
      }
    },
    {
      "cell_type": "code",
      "source": [
        "import numpy as np\n",
        "import matplotlib.pyplot as plt\n",
        "import pandas as pd\n",
        "df = pd.read_csv('https://raw.githubusercontent.com/Datamanim/datarepo/main/scipy/normal3.csv')\n",
        "log_y_data = np.log1p(df)\n",
        "\n",
        "plt.hist(log_y_data)\n",
        "plt.show()"
      ],
      "metadata": {
        "colab": {
          "base_uri": "https://localhost:8080/",
          "height": 430
        },
        "id": "hRYR7ln0pioJ",
        "outputId": "406f8582-4bda-4dc3-83f7-1caf1a6244e1"
      },
      "execution_count": 5,
      "outputs": [
        {
          "output_type": "display_data",
          "data": {
            "text/plain": [
              "<Figure size 640x480 with 1 Axes>"
            ],
            "image/png": "[encoded data removed]"
          },
          "metadata": {}
        }
      ]
    },
    {
      "cell_type": "markdown",
      "source": [
        "`np.log1p(df)`\n",
        "\n",
        "- log1p를 통해 로그 변환이 가능"
      ],
      "metadata": {
        "id": "oW_019aSpkOC"
      }
    },
    {
      "cell_type": "code",
      "source": [
        "from scipy.stats import shapiro\n",
        "print(shapiro(df))"
      ],
      "metadata": {
        "colab": {
          "base_uri": "https://localhost:8080/"
        },
        "id": "7Av-ZIYoprRG",
        "outputId": "8b7994a5-ba29-48fb-8c92-7fc05b572c1b"
      },
      "execution_count": 6,
      "outputs": [
        {
          "output_type": "stream",
          "name": "stdout",
          "text": [
            "ShapiroResult(statistic=0.9578885436058044, pvalue=2.309641794969743e-16)\n"
          ]
        }
      ]
    },
    {
      "cell_type": "markdown",
      "source": [
        "샤피로 검정시 p-value가 2.30이므로 유의수준 5%에서 귀무가설(\"데이터는 정규성을 가진다\")을 기각할 수 있다."
      ],
      "metadata": {
        "id": "mE9MlzRipty_"
      }
    },
    {
      "cell_type": "markdown",
      "source": [
        "---"
      ],
      "metadata": {
        "id": "irJUX4xOpvrZ"
      }
    },
    {
      "cell_type": "markdown",
      "source": [
        "### Question 4\n",
        "\n",
        "다음 데이터의 정규성을 검증하라"
      ],
      "metadata": {
        "id": "5Z9AAuCspwrC"
      }
    },
    {
      "cell_type": "markdown",
      "source": [
        "다시 한 번 풀어보기!"
      ],
      "metadata": {
        "id": "jVah5tG3qbXf"
      }
    },
    {
      "cell_type": "code",
      "source": [
        "import pandas as pd\n",
        "import matplotlib.pyplot as plt\n",
        "\n",
        "df = pd.read_csv('https://raw.githubusercontent.com/Datamanim/datarepo/main/scipy/normal6.csv')\n",
        "plt.hist(df)\n",
        "plt.show()"
      ],
      "metadata": {
        "colab": {
          "base_uri": "https://localhost:8080/",
          "height": 430
        },
        "id": "uvTBdCX7pzYB",
        "outputId": "8b08f43c-5b84-4b13-a815-a652be2f767c"
      },
      "execution_count": 7,
      "outputs": [
        {
          "output_type": "display_data",
          "data": {
            "text/plain": [
              "<Figure size 640x480 with 1 Axes>"
            ],
            "image/png": "[encoded data removed]"
          },
          "metadata": {}
        }
      ]
    },
    {
      "cell_type": "code",
      "source": [
        "from scipy.stats import shapiro\n",
        "print(shapiro(df)) # 5000개의 데이터가 넘어서 샤피로 검정 사용 불가"
      ],
      "metadata": {
        "colab": {
          "base_uri": "https://localhost:8080/"
        },
        "id": "V6yIPZ3Kp18l",
        "outputId": "7b42b3f7-e287-4b91-81d9-2dd9dd6c1338"
      },
      "execution_count": 8,
      "outputs": [
        {
          "output_type": "stream",
          "name": "stdout",
          "text": [
            "ShapiroResult(statistic=0.9995355606079102, pvalue=0.1507067084312439)\n"
          ]
        },
        {
          "output_type": "stream",
          "name": "stderr",
          "text": [
            "/usr/local/lib/python3.10/dist-packages/scipy/stats/_morestats.py:1882: UserWarning: p-value may not be accurate for N > 5000.\n",
            "  warnings.warn(\"p-value may not be accurate for N > 5000.\")\n"
          ]
        }
      ]
    },
    {
      "cell_type": "code",
      "source": [
        "from scipy.stats import anderson\n",
        "print(anderson(df['data'].values))"
      ],
      "metadata": {
        "colab": {
          "base_uri": "https://localhost:8080/"
        },
        "id": "YNbbuQxIp7hk",
        "outputId": "59651ce5-0850-4585-fe96-c7aab7a38412"
      },
      "execution_count": 10,
      "outputs": [
        {
          "output_type": "stream",
          "name": "stdout",
          "text": [
            "AndersonResult(statistic=0.8266993530405671, critical_values=array([0.576, 0.656, 0.786, 0.917, 1.091]), significance_level=array([15. , 10. ,  5. ,  2.5,  1. ]), fit_result=  params: FitParams(loc=299.95980319533163, scale=5.031806887885131)\n",
            " success: True\n",
            " message: '`anderson` successfully fit the distribution to the data.')\n"
          ]
        }
      ]
    },
    {
      "cell_type": "markdown",
      "source": [
        "`significance_level`는 유의 확률값을 나타내며 `critical_values`는 각 유의 확률값의 기준점이 된다.\n",
        "\n",
        "5%유의 수준에서 검정을 진행하려면 statistic값인 0.82이 significance_level 이 5.에 위치한 인덱스를 critical_values값에서 비교하면 된다.\n",
        "그 값은 0.786이므로 이보다 큰 0.82을 가지므로 귀무가설을 기각하고 대립가설을 채택한다.\n",
        "즉, 데이터는 정규성을 가지지 않는다고 판단. (p-value와 기각기준 부등호 개념이 반대)"
      ],
      "metadata": {
        "id": "3-JrmzvUqJK1"
      }
    },
    {
      "cell_type": "markdown",
      "source": [
        "---"
      ],
      "metadata": {
        "id": "zjo7VZJjqdUC"
      }
    },
    {
      "cell_type": "markdown",
      "source": [
        "## 단일 표본 t검정 (one-sample)"
      ],
      "metadata": {
        "id": "q-hdmz2LqeB9"
      }
    },
    {
      "cell_type": "markdown",
      "source": [
        "### Question 5\n",
        "\n",
        "100명의 키 정보가 들어 있는 데이터가 있다.데이터가 정규성을 만족하는지 확인하라.\n",
        "그리고 평균키는 165라 판단할수 있는지 귀무가설과 대립가설을 설정한 후 유의수준 5%로 검정하라."
      ],
      "metadata": {
        "id": "YgcPitvIqgSN"
      }
    },
    {
      "cell_type": "code",
      "source": [
        "import pandas as pd\n",
        "df = pd.read_csv('https://raw.githubusercontent.com/Datamanim/datarepo/main/scipy/height1.csv')"
      ],
      "metadata": {
        "id": "NNntHsaTqf-j"
      },
      "execution_count": 11,
      "outputs": []
    },
    {
      "cell_type": "code",
      "source": [
        "from scipy.stats import shapiro\n",
        "print(shapiro(df))"
      ],
      "metadata": {
        "colab": {
          "base_uri": "https://localhost:8080/"
        },
        "id": "kKHjy6KvqkWt",
        "outputId": "346e2b13-dbe5-482b-d796-f7f8a0eb6ba8"
      },
      "execution_count": 12,
      "outputs": [
        {
          "output_type": "stream",
          "name": "stdout",
          "text": [
            "ShapiroResult(statistic=0.9872668981552124, pvalue=0.4558176100254059)\n"
          ]
        }
      ]
    },
    {
      "cell_type": "markdown",
      "source": [
        "샤피로 검정시 p-value가 0.45이므로 유의수준 5%에서 귀무가설(\"데이터는 정규성을 가진다\")을 기각할 수 없다. 정규성을 만족하므로 단일 표본 검증이다."
      ],
      "metadata": {
        "id": "_Un_mm-lqqM4"
      }
    },
    {
      "cell_type": "code",
      "source": [
        "from scipy.stats import ttest_1samp # 단일 표본 검정\n",
        "static, pvalue = ttest_1samp(df['height'],165)\n",
        "print(pvalue)"
      ],
      "metadata": {
        "colab": {
          "base_uri": "https://localhost:8080/"
        },
        "id": "3Vp-sPsIquqH",
        "outputId": "2e357cbe-5806-419a-9aba-e8bd3edbf144"
      },
      "execution_count": 15,
      "outputs": [
        {
          "output_type": "stream",
          "name": "stdout",
          "text": [
            "0.0018367171548080209\n"
          ]
        }
      ]
    },
    {
      "cell_type": "markdown",
      "source": [
        "단일표본 t-test의 귀무가설은 \"100명 키의 평균은 165이다.\" 이며\n",
        "대립가설은 \"100명 키의 평균은 165가 아니다.\" 이다.  \n",
        "검정 결과 pvalue는 0.0018367171548080209로 결과는 귀무가설을 기각하고 대립가설을 채택한다."
      ],
      "metadata": {
        "id": "oQ7OyffYqt-p"
      }
    }
  ]
}