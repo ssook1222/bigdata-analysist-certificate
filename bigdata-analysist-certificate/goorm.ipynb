{
  "nbformat": 4,
  "nbformat_minor": 0,
  "metadata": {
    "colab": {
      "provenance": [],
      "authorship_tag": "ABX9TyNNzP36HuYxf8zd6uPVZTda",
      "include_colab_link": true
    },
    "kernelspec": {
      "name": "python3",
      "display_name": "Python 3"
    },
    "language_info": {
      "name": "python"
    }
  },
  "cells": [
    {
      "cell_type": "markdown",
      "metadata": {
        "id": "view-in-github",
        "colab_type": "text"
      },
      "source": [
        "<a href=\"https://colab.research.google.com/github/ssook1222/bigdata-analysist-certificate/blob/master/bigdata-analysist-certificate/goorm.ipynb\" target=\"_parent\"><img src=\"https://colab.research.google.com/assets/colab-badge.svg\" alt=\"Open In Colab\"/></a>"
      ]
    },
    {
      "cell_type": "markdown",
      "source": [
        "## 1영역"
      ],
      "metadata": {
        "id": "Mo-BdceOWpla"
      }
    },
    {
      "cell_type": "code",
      "execution_count": null,
      "metadata": {
        "id": "OLvs21hxUTRa"
      },
      "outputs": [],
      "source": [
        "# 출력을 원할 경우 print() 함수 활용\n",
        "# 예시) print(df.head())\n",
        "\n",
        "# getcwd(), chdir() 등 작업 폴더 설정 불필요\n",
        "# 파일 경로 상 내부 드라이브 경로(C: 등) 접근 불가\n",
        "\n",
        "import pandas as pd\n",
        "\n",
        "df = pd.read_csv(\"data/mtcars.csv\")\n",
        "\n",
        "# 사용자 코딩\n",
        "from sklearn.preprocessing import LabelEncoder\n",
        "from sklearn.preprocessing import MinMaxScaler\n",
        "\n",
        "# 해당 화면에서는 제출하지 않으며, 문제 풀이 후 답안제출에서 결괏값 제출\n",
        "\n",
        "le = LabelEncoder()\n",
        "min_max = MinMaxScaler()\n",
        "\n",
        "df['Unnamed: 0'] = le.fit_transform(df['Unnamed: 0'])\n",
        "\n",
        "h_data = min_max.fit_transform(df)\n",
        "h_col = df.columns\n",
        "\n",
        "h = pd.DataFrame(data = h_data, columns = h_col)\n",
        "\n",
        "print(len(h[(h.qsec > 0.5)]))"
      ]
    },
    {
      "cell_type": "markdown",
      "source": [
        "## 2영역"
      ],
      "metadata": {
        "id": "YmcMI6IOXuJ6"
      }
    },
    {
      "cell_type": "code",
      "source": [
        "# 출력을 원하실 경우 print() 함수 활용\n",
        "# 예시) print(df.head())\n",
        "\n",
        "# getcwd(), chdir() 등 작업 폴더 설정 불필요\n",
        "# 파일 경로 상 내부 드라이브 경로(C: 등) 접근 불가\n",
        "\n",
        "import pandas as pd\n",
        "\n",
        "train = pd.read_csv(\"data/customer_train.csv\")\n",
        "test = pd.read_csv(\"data/customer_test.csv\")\n",
        "\n",
        "# 사용자 코딩\n",
        "\n",
        "# 답안 제출 참고\n",
        "# 아래 코드는 예시이며 변수명 등 개인별로 변경하여 활용\n",
        "# pd.DataFrame변수.to_csv(\"result.csv\", index=False)\n",
        "import numpy as np\n",
        "from sklearn.preprocessing import LabelEncoder\n",
        "from sklearn.preprocessing import MinMaxScaler\n",
        "from sklearn.impute import SimpleImputer\n",
        "\n",
        "import warnings\n",
        "\n",
        "from sklearn.tree import DecisionTreeClassifier\n",
        "\n",
        "warnings.filterwarnings(action='ignore')\n",
        "\n",
        "x_train = train[['총구매액', '최대구매액', '환불금액', '주구매상품', '주구매지점', '방문일수', '방문당구매건수',\n",
        "       '주말방문비율', '구매주기']]\n",
        "\n",
        "x_test = test[['총구매액', '최대구매액', '환불금액', '주구매상품', '주구매지점', '방문일수', '방문당구매건수',\n",
        "       '주말방문비율', '구매주기']]\n",
        "\n",
        "y_train = train[['회원ID', '성별']]\n",
        "\n",
        "\n",
        "def fill_0(x):\n",
        "\tif np.isnan(x):\n",
        "\t\treturn 0\n",
        "\telse:\n",
        "\t\treturn x\n",
        "\n",
        "x_train['환불금액'] = x_train['환불금액'].apply(fill_0)\n",
        "x_test['환불금액'] = x_test['환불금액'].apply(fill_0)\n",
        "\n",
        "\n",
        "le_cols = ['주구매상품', '주구매지점']\n",
        "le = LabelEncoder()\n",
        "\n",
        "for col in le_cols:\n",
        "\tx_train[col] = le.fit_transform(x_train[col])\n",
        "\tx_test[col] = le.fit_transform(x_test[col])\n",
        "\n",
        "dtc = DecisionTreeClassifier()\n",
        "model = dtc.fit(x_train, y_train)\n",
        "predict1 = model.predict(x_test)\n",
        "\n",
        "submit = pd.DataFrame(columns = ['pred'], data = predict1[:,1])\n",
        "print(submit.head(5))\n",
        "\n",
        "submit.to_csv('result.csv', index = False)\n",
        "\n",
        "result = pd.read_csv('result.csv')\n",
        "print(result)"
      ],
      "metadata": {
        "id": "f6KDQ-blXvwl"
      },
      "execution_count": null,
      "outputs": []
    },
    {
      "cell_type": "markdown",
      "source": [
        "## 3영역"
      ],
      "metadata": {
        "id": "mCNNJnwEcIoz"
      }
    },
    {
      "cell_type": "code",
      "source": [
        "# 출력을 원할 경우 print() 함수 활용\n",
        "# 예시) print(df.head())\n",
        "\n",
        "# getcwd(), chdir() 등 작업 폴더 설정 불필요\n",
        "# 파일 경로 상 내부 드라이브 경로(C: 등) 접근 불가\n",
        "\n",
        "import pandas as pd\n",
        "import scipy.stats\n",
        "# from scipy.stats import ttest_ind\n",
        "from scipy.stats import chi2_contingency\n",
        "\n",
        "df = pd.read_csv(\"data/Titanic.csv\")\n",
        "\n",
        "# 사용자 코딩\n",
        "# print(dir(scipy.stats))\n",
        "\n",
        "gender = df['Gender']\n",
        "survive = df['Survived']\n",
        "# print(pd.crosstab(gender, survive))\n",
        "\n",
        "cross = pd.crosstab(gender, survive)\n",
        "# print(chi2_contingency(cross))\n",
        "\n",
        "s = chi2_contingency(cross)[0]\n",
        "p = chi2_contingency(cross)[1]\n",
        "\n",
        "# a번 답\n",
        "print(round(s,3))\n",
        "\n",
        "# 해당 화면에서는 제출하지 않으며, 문제 풀이 후 답안제출에서 결괏값 제출\n"
      ],
      "metadata": {
        "id": "wUSY8qkScKOG"
      },
      "execution_count": null,
      "outputs": []
    },
    {
      "cell_type": "markdown",
      "source": [
        "## 3영역"
      ],
      "metadata": {
        "id": "05sXPIdNk0bF"
      }
    },
    {
      "cell_type": "code",
      "source": [
        "# 출력을 원할 경우 print() 함수 활용\n",
        "# 예시) print(df.head())\n",
        "\n",
        "# getcwd(), chdir() 등 작업 폴더 설정 불필요\n",
        "# 파일 경로 상 내부 드라이브 경로(C: 등) 접근 불가\n",
        "\n",
        "import pandas as pd\n",
        "import scipy.stats\n",
        "# from scipy.stats import ttest_ind\n",
        "from scipy.stats import chi2_contingency\n",
        "\n",
        "df = pd.read_csv(\"data/Titanic.csv\")\n",
        "\n",
        "# 사용자 코딩\n",
        "# print(dir(scipy.stats))\n",
        "\n",
        "gender = df['Gender']\n",
        "survive = df['Survived']\n",
        "# print(pd.crosstab(gender, survive))\n",
        "\n",
        "cross = pd.crosstab(gender, survive)\n",
        "# print(chi2_contingency(cross))\n",
        "\n",
        "s = chi2_contingency(cross)[0]\n",
        "p = chi2_contingency(cross)[1]\n",
        "\n",
        "# 1번 답\n",
        "print(round(s,3))\n",
        "\n",
        "# 2번 답\n",
        "from sklearn.linear_model import LogisticRegression\n",
        "from sklearn.preprocessing import LabelEncoder\n",
        "# print(dir(sklearn.linear_model))\n",
        "\n",
        "le = LabelEncoder()\n",
        "df['Gender'] = le.fit_transform(df['Gender'])\n",
        "\n",
        "y_train = df['Survived']\n",
        "x_train = df[['Gender', 'SibSp', 'Parch', 'Fare']]\n",
        "\n",
        "lr = LogisticRegression()\n",
        "model = lr.fit(x_train, y_train)\n",
        "\n",
        "# 2번 답\n",
        "# print(model.coef_)\n",
        "print(-0.18589669)\n",
        "\n",
        "# 3번\n",
        "import numpy as np\n",
        "# print(np.exp(lr.coef_[0])) # 오즈비는 np.exp(특정변수의 계수)\n",
        "print(0.70924119)\n",
        "\n",
        "# 해당 화면에서는 제출하지 않으며, 문제 풀이 후 답안제출에서 결괏값 제출\n"
      ],
      "metadata": {
        "id": "A3ndmiHCk138"
      },
      "execution_count": null,
      "outputs": []
    },
    {
      "cell_type": "markdown",
      "source": [
        "260.717\n",
        "-0.18589669\n",
        "0.70924119\n"
      ],
      "metadata": {
        "id": "CntOdOiAk2ka"
      }
    }
  ]
}