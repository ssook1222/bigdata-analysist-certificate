{
  "nbformat": 4,
  "nbformat_minor": 0,
  "metadata": {
    "colab": {
      "provenance": [],
      "authorship_tag": "ABX9TyPPpKy8ZAYJ7CPoS44khJ7K",
      "include_colab_link": true
    },
    "kernelspec": {
      "name": "python3",
      "display_name": "Python 3"
    },
    "language_info": {
      "name": "python"
    }
  },
  "cells": [
    {
      "cell_type": "markdown",
      "metadata": {
        "id": "view-in-github",
        "colab_type": "text"
      },
      "source": [
        "<a href=\"https://colab.research.google.com/github/ssook1222/bigdata-analysist-certificate/blob/master/bigdata-analysist-certificate/task2/move_to_job.ipynb\" target=\"_parent\"><img src=\"https://colab.research.google.com/assets/colab-badge.svg\" alt=\"Open In Colab\"/></a>"
      ]
    },
    {
      "cell_type": "markdown",
      "source": [
        "# 이직여부 판단 데이터"
      ],
      "metadata": {
        "id": "JeHzuTTX0anK"
      }
    },
    {
      "cell_type": "markdown",
      "source": [
        "결측치 함부로 다 삭제하지 말자...^^...\n",
        "\n",
        "제출해야 할 데이터 일부가 사라져벌임 ㅎ..."
      ],
      "metadata": {
        "id": "_rqHQQ5a0fYf"
      }
    },
    {
      "cell_type": "markdown",
      "source": [
        "----"
      ],
      "metadata": {
        "id": "rMMA61n60etR"
      }
    },
    {
      "cell_type": "markdown",
      "source": [
        "## 패키지 다 때려 박기"
      ],
      "metadata": {
        "id": "cw7NZOJim3QJ"
      }
    },
    {
      "cell_type": "code",
      "execution_count": 132,
      "metadata": {
        "id": "MoIhIX0Ai5OI"
      },
      "outputs": [],
      "source": [
        "import pandas as pd\n",
        "import numpy as np\n",
        "\n",
        "from sklearn.preprocessing import LabelEncoder\n",
        "from sklearn.ensemble import RandomForestClassifier\n",
        "from sklearn.metrics import accuracy_score"
      ]
    },
    {
      "cell_type": "markdown",
      "source": [
        "## 데이터 다 불러오기"
      ],
      "metadata": {
        "id": "4gN50XS9nchR"
      }
    },
    {
      "cell_type": "code",
      "source": [
        "x_train_url = 'https://raw.githubusercontent.com/Datamanim/datarepo/main/HRdata/X_train.csv'\n",
        "y_train_url = 'https://raw.githubusercontent.com/Datamanim/datarepo/main/HRdata/y_train.csv'\n",
        "\n",
        "x_test_url = 'https://raw.githubusercontent.com/Datamanim/datarepo/main/HRdata/X_test.csv'\n",
        "x_label_url = 'https://raw.githubusercontent.com/Datamanim/datarepo/main/HRdata/y_test.csv'"
      ],
      "metadata": {
        "id": "3hIKdaAxm95V"
      },
      "execution_count": 133,
      "outputs": []
    },
    {
      "cell_type": "code",
      "source": [
        "x_train = pd.read_csv(x_train_url)\n",
        "y_train = pd.read_csv(y_train_url)\n",
        "\n",
        "x_test = pd.read_csv(x_test_url)\n",
        "x_label = pd.read_csv(x_label_url)"
      ],
      "metadata": {
        "id": "fIQ6dfPOnPRr"
      },
      "execution_count": 134,
      "outputs": []
    },
    {
      "cell_type": "markdown",
      "source": [
        "## 데이터 전처리"
      ],
      "metadata": {
        "id": "yt-gRdPvnn5A"
      }
    },
    {
      "cell_type": "markdown",
      "source": [
        "### 결측치 처리"
      ],
      "metadata": {
        "id": "6nA_CGwwo4vB"
      }
    },
    {
      "cell_type": "code",
      "source": [
        "# 결측치 제거 전, 결측치만 있는 행만 추출\n",
        "missing_rows = x_train[(x_train.isna().any(axis=1))]\n",
        "enrollee_ids_to_remove = missing_rows['enrollee_id'].tolist()"
      ],
      "metadata": {
        "id": "a-qR2QhLxHM1"
      },
      "execution_count": 135,
      "outputs": []
    },
    {
      "cell_type": "code",
      "source": [
        "missing_rows2 = x_test[(x_test.isna().any(axis=1))]\n",
        "enrollee_ids_to_remove2 = missing_rows2['enrollee_id'].tolist()"
      ],
      "metadata": {
        "id": "TyRux1npzCvQ"
      },
      "execution_count": 136,
      "outputs": []
    },
    {
      "cell_type": "code",
      "source": [
        "x_train = x_train.dropna(axis=0)"
      ],
      "metadata": {
        "id": "oEtx-0XRo_uv"
      },
      "execution_count": 137,
      "outputs": []
    },
    {
      "cell_type": "code",
      "source": [
        "x_test = x_test.dropna(axis=0)"
      ],
      "metadata": {
        "id": "da4iYTYYyiAa"
      },
      "execution_count": 138,
      "outputs": []
    },
    {
      "cell_type": "code",
      "source": [
        "y_train = y_train[~y_train['enrollee_id'].isin(enrollee_ids_to_remove)]\n",
        "x_label = x_label[~x_label['enrollee_id'].isin(enrollee_ids_to_remove2)]"
      ],
      "metadata": {
        "id": "gG8GZjdawL5Q"
      },
      "execution_count": 139,
      "outputs": []
    },
    {
      "cell_type": "markdown",
      "source": [
        "### 인코딩 작업"
      ],
      "metadata": {
        "id": "DJP8keGBonlx"
      }
    },
    {
      "cell_type": "code",
      "source": [
        "le = LabelEncoder()\n",
        "\n",
        "x_train['city'] = le.fit_transform(x_train['city'])\n",
        "x_train['gender'] = le.fit_transform(x_train['gender'])\n",
        "x_train['relevent_experience'] = le.fit_transform(x_train['relevent_experience'])\n",
        "x_train['enrolled_university'] = le.fit_transform(x_train['enrolled_university'])\n",
        "x_train['education_level'] = le.fit_transform(x_train['education_level'])\n",
        "x_train['major_discipline'] = le.fit_transform(x_train['major_discipline'])\n",
        "x_train['company_type'] = le.fit_transform(x_train['company_type'])\n",
        "x_train['last_new_job'] = le.fit_transform(x_train['last_new_job'])\n",
        "\n",
        "x_test['city'] = le.fit_transform(x_test['city'])\n",
        "x_test['gender'] = le.fit_transform(x_test['gender'])\n",
        "x_test['relevent_experience'] = le.fit_transform(x_test['relevent_experience'])\n",
        "x_test['enrolled_university'] = le.fit_transform(x_test['enrolled_university'])\n",
        "x_test['education_level'] = le.fit_transform(x_test['education_level'])\n",
        "x_test['major_discipline'] = le.fit_transform(x_test['major_discipline'])\n",
        "x_test['company_type'] = le.fit_transform(x_test['company_type'])\n",
        "x_test['last_new_job'] = le.fit_transform(x_test['last_new_job'])"
      ],
      "metadata": {
        "colab": {
          "base_uri": "https://localhost:8080/"
        },
        "id": "Fj_wVvi3nfAK",
        "outputId": "930451d8-3088-4ee8-f5d6-2a9347be085e"
      },
      "execution_count": 140,
      "outputs": [
        {
          "output_type": "stream",
          "name": "stderr",
          "text": [
            "<ipython-input-140-350c4dcded74>:3: SettingWithCopyWarning: \n",
            "A value is trying to be set on a copy of a slice from a DataFrame.\n",
            "Try using .loc[row_indexer,col_indexer] = value instead\n",
            "\n",
            "See the caveats in the documentation: https://pandas.pydata.org/pandas-docs/stable/user_guide/indexing.html#returning-a-view-versus-a-copy\n",
            "  x_train['city'] = le.fit_transform(x_train['city'])\n",
            "<ipython-input-140-350c4dcded74>:4: SettingWithCopyWarning: \n",
            "A value is trying to be set on a copy of a slice from a DataFrame.\n",
            "Try using .loc[row_indexer,col_indexer] = value instead\n",
            "\n",
            "See the caveats in the documentation: https://pandas.pydata.org/pandas-docs/stable/user_guide/indexing.html#returning-a-view-versus-a-copy\n",
            "  x_train['gender'] = le.fit_transform(x_train['gender'])\n",
            "<ipython-input-140-350c4dcded74>:5: SettingWithCopyWarning: \n",
            "A value is trying to be set on a copy of a slice from a DataFrame.\n",
            "Try using .loc[row_indexer,col_indexer] = value instead\n",
            "\n",
            "See the caveats in the documentation: https://pandas.pydata.org/pandas-docs/stable/user_guide/indexing.html#returning-a-view-versus-a-copy\n",
            "  x_train['relevent_experience'] = le.fit_transform(x_train['relevent_experience'])\n",
            "<ipython-input-140-350c4dcded74>:6: SettingWithCopyWarning: \n",
            "A value is trying to be set on a copy of a slice from a DataFrame.\n",
            "Try using .loc[row_indexer,col_indexer] = value instead\n",
            "\n",
            "See the caveats in the documentation: https://pandas.pydata.org/pandas-docs/stable/user_guide/indexing.html#returning-a-view-versus-a-copy\n",
            "  x_train['enrolled_university'] = le.fit_transform(x_train['enrolled_university'])\n",
            "<ipython-input-140-350c4dcded74>:7: SettingWithCopyWarning: \n",
            "A value is trying to be set on a copy of a slice from a DataFrame.\n",
            "Try using .loc[row_indexer,col_indexer] = value instead\n",
            "\n",
            "See the caveats in the documentation: https://pandas.pydata.org/pandas-docs/stable/user_guide/indexing.html#returning-a-view-versus-a-copy\n",
            "  x_train['education_level'] = le.fit_transform(x_train['education_level'])\n",
            "<ipython-input-140-350c4dcded74>:8: SettingWithCopyWarning: \n",
            "A value is trying to be set on a copy of a slice from a DataFrame.\n",
            "Try using .loc[row_indexer,col_indexer] = value instead\n",
            "\n",
            "See the caveats in the documentation: https://pandas.pydata.org/pandas-docs/stable/user_guide/indexing.html#returning-a-view-versus-a-copy\n",
            "  x_train['major_discipline'] = le.fit_transform(x_train['major_discipline'])\n",
            "<ipython-input-140-350c4dcded74>:9: SettingWithCopyWarning: \n",
            "A value is trying to be set on a copy of a slice from a DataFrame.\n",
            "Try using .loc[row_indexer,col_indexer] = value instead\n",
            "\n",
            "See the caveats in the documentation: https://pandas.pydata.org/pandas-docs/stable/user_guide/indexing.html#returning-a-view-versus-a-copy\n",
            "  x_train['company_type'] = le.fit_transform(x_train['company_type'])\n",
            "<ipython-input-140-350c4dcded74>:10: SettingWithCopyWarning: \n",
            "A value is trying to be set on a copy of a slice from a DataFrame.\n",
            "Try using .loc[row_indexer,col_indexer] = value instead\n",
            "\n",
            "See the caveats in the documentation: https://pandas.pydata.org/pandas-docs/stable/user_guide/indexing.html#returning-a-view-versus-a-copy\n",
            "  x_train['last_new_job'] = le.fit_transform(x_train['last_new_job'])\n",
            "<ipython-input-140-350c4dcded74>:12: SettingWithCopyWarning: \n",
            "A value is trying to be set on a copy of a slice from a DataFrame.\n",
            "Try using .loc[row_indexer,col_indexer] = value instead\n",
            "\n",
            "See the caveats in the documentation: https://pandas.pydata.org/pandas-docs/stable/user_guide/indexing.html#returning-a-view-versus-a-copy\n",
            "  x_test['city'] = le.fit_transform(x_test['city'])\n",
            "<ipython-input-140-350c4dcded74>:13: SettingWithCopyWarning: \n",
            "A value is trying to be set on a copy of a slice from a DataFrame.\n",
            "Try using .loc[row_indexer,col_indexer] = value instead\n",
            "\n",
            "See the caveats in the documentation: https://pandas.pydata.org/pandas-docs/stable/user_guide/indexing.html#returning-a-view-versus-a-copy\n",
            "  x_test['gender'] = le.fit_transform(x_test['gender'])\n",
            "<ipython-input-140-350c4dcded74>:14: SettingWithCopyWarning: \n",
            "A value is trying to be set on a copy of a slice from a DataFrame.\n",
            "Try using .loc[row_indexer,col_indexer] = value instead\n",
            "\n",
            "See the caveats in the documentation: https://pandas.pydata.org/pandas-docs/stable/user_guide/indexing.html#returning-a-view-versus-a-copy\n",
            "  x_test['relevent_experience'] = le.fit_transform(x_test['relevent_experience'])\n",
            "<ipython-input-140-350c4dcded74>:15: SettingWithCopyWarning: \n",
            "A value is trying to be set on a copy of a slice from a DataFrame.\n",
            "Try using .loc[row_indexer,col_indexer] = value instead\n",
            "\n",
            "See the caveats in the documentation: https://pandas.pydata.org/pandas-docs/stable/user_guide/indexing.html#returning-a-view-versus-a-copy\n",
            "  x_test['enrolled_university'] = le.fit_transform(x_test['enrolled_university'])\n",
            "<ipython-input-140-350c4dcded74>:16: SettingWithCopyWarning: \n",
            "A value is trying to be set on a copy of a slice from a DataFrame.\n",
            "Try using .loc[row_indexer,col_indexer] = value instead\n",
            "\n",
            "See the caveats in the documentation: https://pandas.pydata.org/pandas-docs/stable/user_guide/indexing.html#returning-a-view-versus-a-copy\n",
            "  x_test['education_level'] = le.fit_transform(x_test['education_level'])\n",
            "<ipython-input-140-350c4dcded74>:17: SettingWithCopyWarning: \n",
            "A value is trying to be set on a copy of a slice from a DataFrame.\n",
            "Try using .loc[row_indexer,col_indexer] = value instead\n",
            "\n",
            "See the caveats in the documentation: https://pandas.pydata.org/pandas-docs/stable/user_guide/indexing.html#returning-a-view-versus-a-copy\n",
            "  x_test['major_discipline'] = le.fit_transform(x_test['major_discipline'])\n",
            "<ipython-input-140-350c4dcded74>:18: SettingWithCopyWarning: \n",
            "A value is trying to be set on a copy of a slice from a DataFrame.\n",
            "Try using .loc[row_indexer,col_indexer] = value instead\n",
            "\n",
            "See the caveats in the documentation: https://pandas.pydata.org/pandas-docs/stable/user_guide/indexing.html#returning-a-view-versus-a-copy\n",
            "  x_test['company_type'] = le.fit_transform(x_test['company_type'])\n",
            "<ipython-input-140-350c4dcded74>:19: SettingWithCopyWarning: \n",
            "A value is trying to be set on a copy of a slice from a DataFrame.\n",
            "Try using .loc[row_indexer,col_indexer] = value instead\n",
            "\n",
            "See the caveats in the documentation: https://pandas.pydata.org/pandas-docs/stable/user_guide/indexing.html#returning-a-view-versus-a-copy\n",
            "  x_test['last_new_job'] = le.fit_transform(x_test['last_new_job'])\n"
          ]
        }
      ]
    },
    {
      "cell_type": "code",
      "source": [
        "def c_experience(x):\n",
        "  if x == '>20':\n",
        "    return 20\n",
        "  else:\n",
        "    if x == '<1':\n",
        "      return 0\n",
        "    return x\n",
        "\n",
        "def c_company_size(x):\n",
        "  if x == '0-9':\n",
        "    return 1\n",
        "\n",
        "  if x == '10/49' or '10-49':\n",
        "    return 2\n",
        "\n",
        "  if x == '50-99\t':\n",
        "    return 3\n",
        "\n",
        "  if x == '100-500':\n",
        "    return 4\n",
        "\n",
        "  if x == '500-999':\n",
        "    return 5\n",
        "\n",
        "  if x == '1000-4999':\n",
        "    return 6\n",
        "\n",
        "  if x == '5000-9999':\n",
        "    return 7"
      ],
      "metadata": {
        "id": "5aWwydfWqBN7"
      },
      "execution_count": 141,
      "outputs": []
    },
    {
      "cell_type": "code",
      "source": [
        "x_train['experience'] = x_train.experience.apply(c_experience)\n",
        "x_train['company_size'] = x_train.company_size.apply(c_company_size)\n",
        "\n",
        "x_test['experience'] = x_test.experience.apply(c_experience)\n",
        "x_test['company_size'] = x_test.company_size.apply(c_company_size)"
      ],
      "metadata": {
        "id": "ArzdLaIupkZx"
      },
      "execution_count": 142,
      "outputs": []
    },
    {
      "cell_type": "markdown",
      "source": [
        "## 모델링 진행하기"
      ],
      "metadata": {
        "id": "c0TfCU1hvt02"
      }
    },
    {
      "cell_type": "code",
      "source": [
        "clf = RandomForestClassifier(n_estimators=20, max_depth=5,random_state=0)\n",
        "clf.fit(x_train, y_train)"
      ],
      "metadata": {
        "colab": {
          "base_uri": "https://localhost:8080/",
          "height": 75
        },
        "id": "D2gwb-Hroj12",
        "outputId": "e03121db-4056-4403-fe2e-36edab9dac9c"
      },
      "execution_count": 143,
      "outputs": [
        {
          "output_type": "execute_result",
          "data": {
            "text/plain": [
              "RandomForestClassifier(max_depth=5, n_estimators=20, random_state=0)"
            ],
            "text/html": [
              "<style>#sk-container-id-3 {color: black;background-color: white;}#sk-container-id-3 pre{padding: 0;}#sk-container-id-3 div.sk-toggleable {background-color: white;}#sk-container-id-3 label.sk-toggleable__label {cursor: pointer;display: block;width: 100%;margin-bottom: 0;padding: 0.3em;box-sizing: border-box;text-align: center;}#sk-container-id-3 label.sk-toggleable__label-arrow:before {content: \"▸\";float: left;margin-right: 0.25em;color: #696969;}#sk-container-id-3 label.sk-toggleable__label-arrow:hover:before {color: black;}#sk-container-id-3 div.sk-estimator:hover label.sk-toggleable__label-arrow:before {color: black;}#sk-container-id-3 div.sk-toggleable__content {max-height: 0;max-width: 0;overflow: hidden;text-align: left;background-color: #f0f8ff;}#sk-container-id-3 div.sk-toggleable__content pre {margin: 0.2em;color: black;border-radius: 0.25em;background-color: #f0f8ff;}#sk-container-id-3 input.sk-toggleable__control:checked~div.sk-toggleable__content {max-height: 200px;max-width: 100%;overflow: auto;}#sk-container-id-3 input.sk-toggleable__control:checked~label.sk-toggleable__label-arrow:before {content: \"▾\";}#sk-container-id-3 div.sk-estimator input.sk-toggleable__control:checked~label.sk-toggleable__label {background-color: #d4ebff;}#sk-container-id-3 div.sk-label input.sk-toggleable__control:checked~label.sk-toggleable__label {background-color: #d4ebff;}#sk-container-id-3 input.sk-hidden--visually {border: 0;clip: rect(1px 1px 1px 1px);clip: rect(1px, 1px, 1px, 1px);height: 1px;margin: -1px;overflow: hidden;padding: 0;position: absolute;width: 1px;}#sk-container-id-3 div.sk-estimator {font-family: monospace;background-color: #f0f8ff;border: 1px dotted black;border-radius: 0.25em;box-sizing: border-box;margin-bottom: 0.5em;}#sk-container-id-3 div.sk-estimator:hover {background-color: #d4ebff;}#sk-container-id-3 div.sk-parallel-item::after {content: \"\";width: 100%;border-bottom: 1px solid gray;flex-grow: 1;}#sk-container-id-3 div.sk-label:hover label.sk-toggleable__label {background-color: #d4ebff;}#sk-container-id-3 div.sk-serial::before {content: \"\";position: absolute;border-left: 1px solid gray;box-sizing: border-box;top: 0;bottom: 0;left: 50%;z-index: 0;}#sk-container-id-3 div.sk-serial {display: flex;flex-direction: column;align-items: center;background-color: white;padding-right: 0.2em;padding-left: 0.2em;position: relative;}#sk-container-id-3 div.sk-item {position: relative;z-index: 1;}#sk-container-id-3 div.sk-parallel {display: flex;align-items: stretch;justify-content: center;background-color: white;position: relative;}#sk-container-id-3 div.sk-item::before, #sk-container-id-3 div.sk-parallel-item::before {content: \"\";position: absolute;border-left: 1px solid gray;box-sizing: border-box;top: 0;bottom: 0;left: 50%;z-index: -1;}#sk-container-id-3 div.sk-parallel-item {display: flex;flex-direction: column;z-index: 1;position: relative;background-color: white;}#sk-container-id-3 div.sk-parallel-item:first-child::after {align-self: flex-end;width: 50%;}#sk-container-id-3 div.sk-parallel-item:last-child::after {align-self: flex-start;width: 50%;}#sk-container-id-3 div.sk-parallel-item:only-child::after {width: 0;}#sk-container-id-3 div.sk-dashed-wrapped {border: 1px dashed gray;margin: 0 0.4em 0.5em 0.4em;box-sizing: border-box;padding-bottom: 0.4em;background-color: white;}#sk-container-id-3 div.sk-label label {font-family: monospace;font-weight: bold;display: inline-block;line-height: 1.2em;}#sk-container-id-3 div.sk-label-container {text-align: center;}#sk-container-id-3 div.sk-container {/* jupyter's `normalize.less` sets `[hidden] { display: none; }` but bootstrap.min.css set `[hidden] { display: none !important; }` so we also need the `!important` here to be able to override the default hidden behavior on the sphinx rendered scikit-learn.org. See: https://github.com/scikit-learn/scikit-learn/issues/21755 */display: inline-block !important;position: relative;}#sk-container-id-3 div.sk-text-repr-fallback {display: none;}</style><div id=\"sk-container-id-3\" class=\"sk-top-container\"><div class=\"sk-text-repr-fallback\"><pre>RandomForestClassifier(max_depth=5, n_estimators=20, random_state=0)</pre><b>In a Jupyter environment, please rerun this cell to show the HTML representation or trust the notebook. <br />On GitHub, the HTML representation is unable to render, please try loading this page with nbviewer.org.</b></div><div class=\"sk-container\" hidden><div class=\"sk-item\"><div class=\"sk-estimator sk-toggleable\"><input class=\"sk-toggleable__control sk-hidden--visually\" id=\"sk-estimator-id-3\" type=\"checkbox\" checked><label for=\"sk-estimator-id-3\" class=\"sk-toggleable__label sk-toggleable__label-arrow\">RandomForestClassifier</label><div class=\"sk-toggleable__content\"><pre>RandomForestClassifier(max_depth=5, n_estimators=20, random_state=0)</pre></div></div></div></div></div>"
            ]
          },
          "metadata": {},
          "execution_count": 143
        }
      ]
    },
    {
      "cell_type": "code",
      "source": [
        "predict1 = clf.predict(x_test)"
      ],
      "metadata": {
        "id": "PuWB2nxuwZDy"
      },
      "execution_count": 144,
      "outputs": []
    },
    {
      "cell_type": "code",
      "source": [
        "predict1"
      ],
      "metadata": {
        "colab": {
          "base_uri": "https://localhost:8080/"
        },
        "id": "wmqmdpKhzSiN",
        "outputId": "cacaa6d7-e255-4420-f92f-fc79b8f7c564"
      },
      "execution_count": 148,
      "outputs": [
        {
          "output_type": "execute_result",
          "data": {
            "text/plain": [
              "array([[29308.,     0.],\n",
              "       [21525.,     0.],\n",
              "       [31273.,     0.],\n",
              "       ...,\n",
              "       [27665.,     0.],\n",
              "       [ 5921.,     0.],\n",
              "       [25320.,     0.]])"
            ]
          },
          "metadata": {},
          "execution_count": 148
        }
      ]
    },
    {
      "cell_type": "code",
      "source": [
        "print(accuracy_score(x_label['target'], predict1[:,1]))"
      ],
      "metadata": {
        "colab": {
          "base_uri": "https://localhost:8080/"
        },
        "id": "pHOTU_PDy8e-",
        "outputId": "0e549cc6-3741-435f-b50e-21ec6a16c32f"
      },
      "execution_count": 149,
      "outputs": [
        {
          "output_type": "stream",
          "name": "stdout",
          "text": [
            "0.8403846153846154\n"
          ]
        }
      ]
    },
    {
      "cell_type": "markdown",
      "source": [
        "## 제출하기"
      ],
      "metadata": {
        "id": "O9y89Wrfzle9"
      }
    },
    {
      "cell_type": "code",
      "source": [
        "submit = pd.DataFrame({'enrollee_id': x_label['enrollee_id'], 'target':predict1[:,1]})\n",
        "print(submit.head(5))"
      ],
      "metadata": {
        "colab": {
          "base_uri": "https://localhost:8080/"
        },
        "id": "3STqjueXzlys",
        "outputId": "ba909292-3546-4780-e9d0-3b39818c24c8"
      },
      "execution_count": 150,
      "outputs": [
        {
          "output_type": "stream",
          "name": "stdout",
          "text": [
            "    enrollee_id  target\n",
            "4         17977     0.0\n",
            "7         13697     0.0\n",
            "9         23961     0.0\n",
            "13         4072     0.0\n",
            "14         4227     0.0\n"
          ]
        }
      ]
    },
    {
      "cell_type": "code",
      "source": [
        "submit.to_csv('result.csv', index = False)"
      ],
      "metadata": {
        "id": "eneDQK5A0UVg"
      },
      "execution_count": 151,
      "outputs": []
    }
  ]
}