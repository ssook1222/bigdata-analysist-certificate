{
  "nbformat": 4,
  "nbformat_minor": 0,
  "metadata": {
    "colab": {
      "provenance": [],
      "authorship_tag": "ABX9TyPsu/R460UiMIa1iKVGZLnC",
      "include_colab_link": true
    },
    "kernelspec": {
      "name": "python3",
      "display_name": "Python 3"
    },
    "language_info": {
      "name": "python"
    }
  },
  "cells": [
    {
      "cell_type": "markdown",
      "metadata": {
        "id": "view-in-github",
        "colab_type": "text"
      },
      "source": [
        "<a href=\"https://colab.research.google.com/github/ssook1222/bigdata-analysist-certificate/blob/master/bigdata-analysist-certificate/task3/task3_3.ipynb\" target=\"_parent\"><img src=\"https://colab.research.google.com/assets/colab-badge.svg\" alt=\"Open In Colab\"/></a>"
      ]
    },
    {
      "cell_type": "markdown",
      "source": [
        "### 독립 표본 검정"
      ],
      "metadata": {
        "id": "K_Q6yI7HjMc6"
      }
    },
    {
      "cell_type": "markdown",
      "source": [
        "> ! 다시 한 번 풀어보기"
      ],
      "metadata": {
        "id": "sB4sFG6Bot7C"
      }
    },
    {
      "cell_type": "markdown",
      "source": [
        "독립 표본 t검정의 경우 집단의 정규성에 따라 접근방식이 다름.     \n",
        "정규성 검정은 개수가 적을 경우 shapiro , 샘플 5000개 이상으로 많을 경우 anderson을 통해 확인해야 함.    "
      ],
      "metadata": {
        "id": "kczKDGukjb9u"
      }
    },
    {
      "cell_type": "markdown",
      "source": [
        "#### 데이터가 정규성을 가지는 경우(모수적 검정)\n",
        "두 집단의 등분산 검정을 한 후       \n",
        "`from scipy.stats import ttest_ind` 사용"
      ],
      "metadata": {
        "id": "wuHrdkpxjlxR"
      }
    },
    {
      "cell_type": "markdown",
      "source": [
        "데이터가 정규성을 가지지 않는 경우  \n",
        "비모수적 검정(윌콕슨 순위 부호 합 등...) 사용"
      ],
      "metadata": {
        "id": "rPwK3Y0mjs0u"
      }
    },
    {
      "cell_type": "markdown",
      "source": [
        "----"
      ],
      "metadata": {
        "id": "f7nw1dfjj1OZ"
      }
    },
    {
      "cell_type": "markdown",
      "source": [
        "### Question 1\n",
        "\n",
        "두 개 학급의 시험 성적에 대한 데이터이다. 두 학습의 시험 평균(비모수 검정의 경우 중위값)은 동일하다 말할 수 있는지 확인하라."
      ],
      "metadata": {
        "id": "ukflsEqYj2Tf"
      }
    },
    {
      "cell_type": "code",
      "execution_count": 2,
      "metadata": {
        "colab": {
          "base_uri": "https://localhost:8080/",
          "height": 449
        },
        "id": "FL3stPfhjA_L",
        "outputId": "218b614b-e91d-4ab0-83b3-775565c048e2"
      },
      "outputs": [
        {
          "output_type": "display_data",
          "data": {
            "text/plain": [
              "<Figure size 640x480 with 1 Axes>"
            ],
            "image/png": "[encoded data removed]"
          },
          "metadata": {}
        }
      ],
      "source": [
        "import pandas as pd\n",
        "import matplotlib.pyplot as plt\n",
        "\n",
        "df1 = pd.read_csv('https://raw.githubusercontent.com/Datamanim/datarepo/main/scipy/ind1.csv')\n",
        "df2 = pd.read_csv('https://raw.githubusercontent.com/Datamanim/datarepo/main/scipy/ind2.csv')\n",
        "\n",
        "\n",
        "plt.hist(df1,label='df1',alpha=0.4)\n",
        "plt.hist(df2,label=\"df2\",alpha=0.4)\n",
        "plt.xlabel('Score bins')\n",
        "plt.ylabel('Counts')\n",
        "plt.legend()\n",
        "plt.show()"
      ]
    },
    {
      "cell_type": "markdown",
      "source": [
        "#### 정규성 검정 진행"
      ],
      "metadata": {
        "id": "iE1-PKCqkENG"
      }
    },
    {
      "cell_type": "code",
      "source": [
        "from scipy.stats import shapiro\n",
        "print(shapiro(df1))\n",
        "print(shapiro(df2))"
      ],
      "metadata": {
        "colab": {
          "base_uri": "https://localhost:8080/"
        },
        "id": "TdAu1rUAkGhH",
        "outputId": "088ba6ee-1b87-4741-d9f3-d49acd45f49b"
      },
      "execution_count": 3,
      "outputs": [
        {
          "output_type": "stream",
          "name": "stdout",
          "text": [
            "ShapiroResult(statistic=0.9860946536064148, pvalue=0.379673033952713)\n",
            "ShapiroResult(statistic=0.990182638168335, pvalue=0.6793646216392517)\n"
          ]
        }
      ]
    },
    {
      "cell_type": "markdown",
      "source": [
        "p value가 유의수준 95%에서 0.05보다 크므로, 두 그룹 모두 Shapiro 검정 결과 귀무가설(정규성을 가진다)을 기각하지 못한다.   \n",
        "`두 그룹은 정규성을 가진다.`"
      ],
      "metadata": {
        "id": "t5U7ckKEkIKk"
      }
    },
    {
      "cell_type": "markdown",
      "source": [
        "#### 등분산 검정"
      ],
      "metadata": {
        "id": "_zl-n79WkYq-"
      }
    },
    {
      "cell_type": "code",
      "source": [
        "from scipy.stats import levene\n",
        "print(levene(df1['data'],df2['data']))"
      ],
      "metadata": {
        "colab": {
          "base_uri": "https://localhost:8080/"
        },
        "id": "Br5EYEYEkbnc",
        "outputId": "52b67682-7975-4efc-bff8-1130022a0e9a"
      },
      "execution_count": 5,
      "outputs": [
        {
          "output_type": "stream",
          "name": "stdout",
          "text": [
            "LeveneResult(statistic=2.5337683795339547, pvalue=0.11302904824469093)\n"
          ]
        }
      ]
    },
    {
      "cell_type": "markdown",
      "source": [
        "두 그룹의 levene 검정을 확인해 본 결과 pvalue가 0.11로 귀무가설을 기각할 수 없다.    \n",
        "그러므로 `두 그룹은 등분산을 가진다.`"
      ],
      "metadata": {
        "id": "NrPMD6HWkelq"
      }
    },
    {
      "cell_type": "markdown",
      "source": [
        "#### 독립 표본 검정"
      ],
      "metadata": {
        "id": "9m-2AlnnkxJb"
      }
    },
    {
      "cell_type": "code",
      "source": [
        "from scipy.stats import ttest_ind\n",
        "print(ttest_ind(df1,df2,equal_var=True))"
      ],
      "metadata": {
        "colab": {
          "base_uri": "https://localhost:8080/"
        },
        "id": "pX8_xZE0kXGf",
        "outputId": "fae76bca-fa83-4135-de73-657d8d1958bb"
      },
      "execution_count": 8,
      "outputs": [
        {
          "output_type": "stream",
          "name": "stdout",
          "text": [
            "TtestResult(statistic=array([2.76719074]), pvalue=array([0.00619015]), df=array([198.]))\n"
          ]
        }
      ]
    },
    {
      "cell_type": "markdown",
      "source": [
        "등분산이기 때문에 `equal_var = True` 파라미터를 주고 ttest_ind 모듈을 이용하여 t-test를 진행한다.    \n",
        "p value가 0.006이므로 귀무가설(각 그룹의 평균값은 동일하다)를 기각하고 대립가설을 채택한다.    "
      ],
      "metadata": {
        "id": "vKTjkyuTktts"
      }
    },
    {
      "cell_type": "markdown",
      "source": [
        "---"
      ],
      "metadata": {
        "id": "-44nwWNUk_Qm"
      }
    },
    {
      "cell_type": "markdown",
      "source": [
        "### Question 2\n",
        "\n",
        "두 개 학급의 시험성적에 대한 데이터이다.     \n",
        "두 학습의 시험 평균(비모수검정의 경우 중위값)은 동일하다 말할 수 있는지 확인하라."
      ],
      "metadata": {
        "id": "1eyH90v4lASi"
      }
    },
    {
      "cell_type": "code",
      "source": [
        "import pandas as pd\n",
        "import matplotlib.pyplot as plt\n",
        "df = pd.read_csv('https://raw.githubusercontent.com/Datamanim/datarepo/main/scipy/scipy5.csv')\n",
        "\n",
        "df1 = df['A']\n",
        "df2 = df['B'].dropna()\n",
        "\n",
        "plt.hist(df1,alpha=0.5,label='A')\n",
        "plt.hist(df2,alpha=0.5,label=\"B\")\n",
        "plt.xlabel('Score bins')\n",
        "plt.ylabel('Counts')\n",
        "plt.legend()\n",
        "plt.show()"
      ],
      "metadata": {
        "colab": {
          "base_uri": "https://localhost:8080/",
          "height": 449
        },
        "id": "22F-Nw8qlFMJ",
        "outputId": "e4d7cd6b-2bb0-4f75-da2b-57eb6185fdf6"
      },
      "execution_count": 16,
      "outputs": [
        {
          "output_type": "display_data",
          "data": {
            "text/plain": [
              "<Figure size 640x480 with 1 Axes>"
            ],
            "image/png": "[encoded data removed]"
          },
          "metadata": {}
        }
      ]
    },
    {
      "cell_type": "code",
      "source": [
        "from scipy.stats import shapiro\n",
        "print(shapiro(df1))\n",
        "print(shapiro(df2))"
      ],
      "metadata": {
        "colab": {
          "base_uri": "https://localhost:8080/"
        },
        "id": "nrJPQNyilFBY",
        "outputId": "43c7b618-7ec8-425a-fe61-8dbc7a11779d"
      },
      "execution_count": 17,
      "outputs": [
        {
          "output_type": "stream",
          "name": "stdout",
          "text": [
            "ShapiroResult(statistic=0.93753981590271, pvalue=6.175894240456614e-10)\n",
            "ShapiroResult(statistic=0.9639433026313782, pvalue=0.00013568344002123922)\n"
          ]
        }
      ]
    },
    {
      "cell_type": "markdown",
      "source": [
        "두 그룹 중 하나가 정규성을 위배한다.     \n",
        "이 중 한 그룹만 정규성을 위배해도 독립표본 t-검정을 할 수 없다.    \n",
        "따라서 비모수 검정을 시행해야 한다.    "
      ],
      "metadata": {
        "id": "l22GQKTclNoS"
      }
    },
    {
      "cell_type": "code",
      "source": [
        "from scipy.stats import mannwhitneyu , ranksums\n",
        "\n",
        "print(mannwhitneyu(df1,df2))\n",
        "print(ranksums(df1,df2))"
      ],
      "metadata": {
        "colab": {
          "base_uri": "https://localhost:8080/"
        },
        "id": "gv0y-JOhlQJ2",
        "outputId": "78422720-7b0f-4db1-e227-32774721c458"
      },
      "execution_count": 20,
      "outputs": [
        {
          "output_type": "stream",
          "name": "stdout",
          "text": [
            "MannwhitneyuResult(statistic=27036.0, pvalue=0.9807458376150018)\n",
            "RanksumsResult(statistic=0.02446942170858557, pvalue=0.9804781743503561)\n"
          ]
        }
      ]
    },
    {
      "cell_type": "markdown",
      "source": [
        "유의수준 95%에서 Mann-Whitney U Test와 윌콕슨 순위합 검정 결과 pvalue는 0.98로 귀무가설을 기각할 수 없다.      \n",
        "즉, 평균이 같다는 기존 가설을 기각하지 못하므로 `두 그룹의 평균은 같다.`"
      ],
      "metadata": {
        "id": "72QWoPLPlbO-"
      }
    },
    {
      "cell_type": "markdown",
      "source": [
        "---"
      ],
      "metadata": {
        "id": "hmC1W9fBmt5F"
      }
    },
    {
      "cell_type": "markdown",
      "source": [
        "### Question 3.\n",
        "\n",
        "두 개 그룹에 대한 수치형 데이터이다. 두 그룹의 평균은 동일하다 말할 수 있는지 검정하라."
      ],
      "metadata": {
        "id": "SimIIrsDmu90"
      }
    },
    {
      "cell_type": "code",
      "source": [
        "import pandas as pd\n",
        "import matplotlib.pyplot as plt\n",
        "df = pd.read_csv('https://raw.githubusercontent.com/Datamanim/datarepo/main/scipy/ind3.csv')\n",
        "\n",
        "df1 = df[df['group'] =='a'].data\n",
        "df2 = df[df['group'] =='b'].data\n",
        "\n",
        "plt.hist(df[df['group'] =='a'].data,label='A',alpha=0.5)\n",
        "plt.hist(df[df['group'] =='b'].data,label=\"B\",alpha=0.5)\n",
        "plt.xlabel('Score bins')\n",
        "plt.ylabel('Counts')\n",
        "plt.legend()\n",
        "plt.show()"
      ],
      "metadata": {
        "colab": {
          "base_uri": "https://localhost:8080/",
          "height": 449
        },
        "id": "DfcHOXE2m0AX",
        "outputId": "c60825fd-0278-45c6-b98d-733fda2383ed"
      },
      "execution_count": 22,
      "outputs": [
        {
          "output_type": "display_data",
          "data": {
            "text/plain": [
              "<Figure size 640x480 with 1 Axes>"
            ],
            "image/png": "[encoded data removed]"
          },
          "metadata": {}
        }
      ]
    },
    {
      "cell_type": "code",
      "source": [
        "from scipy.stats import shapiro\n",
        "print(shapiro(df1))\n",
        "print(shapiro(df2))"
      ],
      "metadata": {
        "colab": {
          "base_uri": "https://localhost:8080/"
        },
        "id": "UHNAlNexm7d-",
        "outputId": "233236d3-ec67-4ee5-c6da-321d18d48e53"
      },
      "execution_count": 23,
      "outputs": [
        {
          "output_type": "stream",
          "name": "stdout",
          "text": [
            "ShapiroResult(statistic=0.9834123253822327, pvalue=0.1473984718322754)\n",
            "ShapiroResult(statistic=0.9831852316856384, pvalue=0.4701973497867584)\n"
          ]
        }
      ]
    },
    {
      "cell_type": "markdown",
      "source": [
        "두 그룹 모두 정규성을 가진다."
      ],
      "metadata": {
        "id": "9m4DTvp-nDI4"
      }
    },
    {
      "cell_type": "code",
      "source": [
        "from scipy.stats import levene\n",
        "print(levene(df1,df2))"
      ],
      "metadata": {
        "colab": {
          "base_uri": "https://localhost:8080/"
        },
        "id": "6dm26p-wnG59",
        "outputId": "d1679f8e-a960-43b3-c5a5-d6dd040aba4d"
      },
      "execution_count": 25,
      "outputs": [
        {
          "output_type": "stream",
          "name": "stdout",
          "text": [
            "LeveneResult(statistic=6.185601018015722, pvalue=0.013750484571911342)\n"
          ]
        }
      ]
    },
    {
      "cell_type": "markdown",
      "source": [
        "두 그룹의 levene 검정을 확인해 본 결과 p-value가 0.013로 귀무가설을 기각할 수 있다. 대립가설을 채택한다.           \n",
        "그러므로 `두 그룹은 등분산을 가지지 않는다.`"
      ],
      "metadata": {
        "id": "LKQtNRBunOta"
      }
    },
    {
      "cell_type": "code",
      "source": [
        "from scipy.stats import ttest_ind\n",
        "print(ttest_ind(df1,df2,equal_var=False))"
      ],
      "metadata": {
        "colab": {
          "base_uri": "https://localhost:8080/"
        },
        "id": "MSCLJavmnTMj",
        "outputId": "5b674884-0b5b-475a-f226-01d861d10588"
      },
      "execution_count": 27,
      "outputs": [
        {
          "output_type": "stream",
          "name": "stdout",
          "text": [
            "TtestResult(statistic=-2.1949470315829265, pvalue=0.029512802991767898, df=171.25282465005142)\n"
          ]
        }
      ]
    },
    {
      "cell_type": "markdown",
      "source": [
        "등분산이 아니기 때문에 equal_var = False 파라미터를 주고 ttest_ind 모듈을 이용하여 t-test를 진행한다.      \n",
        "p value가 0.04이므로 귀무가설(각 그룹의 평균값은 동일하다)를 기각하고      \n",
        "대립가설(`두 그룹의 평균은 동일하지 않다`)을 채택한다."
      ],
      "metadata": {
        "id": "oyZP5QSanW6p"
      }
    },
    {
      "cell_type": "markdown",
      "source": [
        "---"
      ],
      "metadata": {
        "id": "9tlUB2FxnszM"
      }
    },
    {
      "cell_type": "markdown",
      "source": [
        "### Question 4.\n",
        "\n",
        "두 개 그룹에 대한 수치형 데이터이다. 두 그룹의 평균은 동일하다 말할 수 있는지 검정하라."
      ],
      "metadata": {
        "id": "8MWc3S05nuZr"
      }
    },
    {
      "cell_type": "code",
      "source": [
        "import pandas as pd\n",
        "import matplotlib.pyplot as plt\n",
        "df = pd.read_csv('https://raw.githubusercontent.com/Datamanim/datarepo/main/scipy/ind6.csv')\n",
        "\n",
        "df1 = df['a'].dropna()\n",
        "df2 = df['b'].dropna()\n",
        "\n",
        "plt.hist(df['a'],alpha=0.5,label='A')\n",
        "plt.hist(df['b'],alpha=0.5,label=\"B\")\n",
        "plt.xlabel('Score bins')\n",
        "plt.ylabel('Counts')\n",
        "plt.legend()\n",
        "plt.show()"
      ],
      "metadata": {
        "colab": {
          "base_uri": "https://localhost:8080/",
          "height": 449
        },
        "id": "SOD6pszqny91",
        "outputId": "acce8bce-f26c-4476-f025-dd5b6e5c37bb"
      },
      "execution_count": 30,
      "outputs": [
        {
          "output_type": "display_data",
          "data": {
            "text/plain": [
              "<Figure size 640x480 with 1 Axes>"
            ],
            "image/png": "[encoded data removed]"
          },
          "metadata": {}
        }
      ]
    },
    {
      "cell_type": "code",
      "source": [
        "from scipy.stats import shapiro\n",
        "print(shapiro(df1))\n",
        "print(shapiro(df2))"
      ],
      "metadata": {
        "colab": {
          "base_uri": "https://localhost:8080/"
        },
        "id": "80Hvhtr-n7fq",
        "outputId": "de0ddec5-fcdc-4fd5-853e-a0a92fc97280"
      },
      "execution_count": 31,
      "outputs": [
        {
          "output_type": "stream",
          "name": "stdout",
          "text": [
            "ShapiroResult(statistic=0.9865895509719849, pvalue=0.28390026092529297)\n",
            "ShapiroResult(statistic=0.9854326844215393, pvalue=0.5937624573707581)\n"
          ]
        }
      ]
    },
    {
      "cell_type": "markdown",
      "source": [
        "두 그룹 모두 Shapiro검정 결과 귀무가설(정규성을 가진다)을 기각 하지 못한다.   \n",
        "두 그룹은 정규성을 가진다.    "
      ],
      "metadata": {
        "id": "JxdptD5BoC-1"
      }
    },
    {
      "cell_type": "code",
      "source": [
        "from scipy.stats import levene\n",
        "print(levene(df1,df2))"
      ],
      "metadata": {
        "colab": {
          "base_uri": "https://localhost:8080/"
        },
        "id": "n30IQGOroWrG",
        "outputId": "9db7cfb3-db1d-4281-bca7-86d5dc9036c8"
      },
      "execution_count": 33,
      "outputs": [
        {
          "output_type": "stream",
          "name": "stdout",
          "text": [
            "LeveneResult(statistic=3.9862856894158347, pvalue=0.04731495612868527)\n"
          ]
        }
      ]
    },
    {
      "cell_type": "markdown",
      "source": [
        "두 그룹의 levene 검정을 확인해 본 결과 p-value가 0.013로 귀무가설을 기각할 수 있다. 대립가설을 채택한다.     \n",
        "그러므로 두 그룹은 등분산을 가지지 않는다.    "
      ],
      "metadata": {
        "id": "9Bi9QTF_oab2"
      }
    },
    {
      "cell_type": "code",
      "source": [
        "from scipy.stats import ttest_ind\n",
        "print(ttest_ind(df1,df2,equal_var=False))"
      ],
      "metadata": {
        "colab": {
          "base_uri": "https://localhost:8080/"
        },
        "id": "aauArSquoIPZ",
        "outputId": "ec09bcd2-4e9c-4f84-9771-6c03c517582d"
      },
      "execution_count": 34,
      "outputs": [
        {
          "output_type": "stream",
          "name": "stdout",
          "text": [
            "TtestResult(statistic=0.0015963310698567184, pvalue=0.9987289046092704, df=122.72255248639058)\n"
          ]
        }
      ]
    },
    {
      "cell_type": "markdown",
      "source": [
        "등분산이 아니기 때문에 `equal_var = False` 파라미터를 주고 ttest_ind 모듈을 이용하여 t-test를 진행한다.      \n",
        "p value가 0.99이므로 귀무가설(`각 그룹의 평균값은 동일하다`)를 채택하고      \n",
        "대립가설(두 그룹의 평균은 동일하지 않다)을 기각한다."
      ],
      "metadata": {
        "id": "NjOpdIkDnywU"
      }
    }
  ]
}