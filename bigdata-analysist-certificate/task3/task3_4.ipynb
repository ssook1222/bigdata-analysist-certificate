{
  "nbformat": 4,
  "nbformat_minor": 0,
  "metadata": {
    "colab": {
      "provenance": [],
      "authorship_tag": "ABX9TyOzNeIFA7VP5mZHDw72IMyI",
      "include_colab_link": true
    },
    "kernelspec": {
      "name": "python3",
      "display_name": "Python 3"
    },
    "language_info": {
      "name": "python"
    }
  },
  "cells": [
    {
      "cell_type": "markdown",
      "metadata": {
        "id": "view-in-github",
        "colab_type": "text"
      },
      "source": [
        "<a href=\"https://colab.research.google.com/github/ssook1222/bigdata-analysist-certificate/blob/master/bigdata-analysist-certificate/task3/task3_4.ipynb\" target=\"_parent\"><img src=\"https://colab.research.google.com/assets/colab-badge.svg\" alt=\"Open In Colab\"/></a>"
      ]
    },
    {
      "cell_type": "markdown",
      "source": [
        "## 대응표본 t 검정 (Paired)"
      ],
      "metadata": {
        "id": "XQlbyv8kzKRc"
      }
    },
    {
      "cell_type": "markdown",
      "source": [
        "### Question 1\n",
        "\n",
        "특정 질병 집단의 투약 전후의 혈류량 변화를 나타낸 데이터이다. 투약 전후의 변화가 있는지 검정하라"
      ],
      "metadata": {
        "id": "bJzvd__jzPfc"
      }
    },
    {
      "cell_type": "code",
      "execution_count": 2,
      "metadata": {
        "colab": {
          "base_uri": "https://localhost:8080/",
          "height": 435
        },
        "id": "zQZSnJjBzC-O",
        "outputId": "6f4b06ae-5636-4f55-dc35-3cd2cb204296"
      },
      "outputs": [
        {
          "output_type": "display_data",
          "data": {
            "text/plain": [
              "<Figure size 640x480 with 2 Axes>"
            ],
            "image/png": "[encoded data removed]"
          },
          "metadata": {}
        }
      ],
      "source": [
        "import pandas as pd\n",
        "import matplotlib.pyplot as plt\n",
        "df = pd.read_csv('https://raw.githubusercontent.com/Datamanim/datarepo/main/scipy/rel2.csv')\n",
        "\n",
        "fig , ax = plt.subplots(1,2)\n",
        "ax[0].boxplot(df['before'])\n",
        "ax[1].boxplot(df['after'])\n",
        "ax[0].set_xticklabels(['before'])\n",
        "ax[1].set_xticklabels(['after'])\n",
        "ax[0].set_ylim(100,350)\n",
        "ax[1].set_ylim(100,350)\n",
        "ax[1].get_yaxis().set_visible(False)\n",
        "ax[0].set_ylabel('value')\n",
        "plt.show()"
      ]
    },
    {
      "cell_type": "markdown",
      "source": [
        "### 정규성 검정"
      ],
      "metadata": {
        "id": "Kee5C1B0zT8t"
      }
    },
    {
      "cell_type": "code",
      "source": [
        "from scipy.stats import shapiro\n",
        "\n",
        "before = df['before']\n",
        "after = df['after']\n",
        "print(shapiro(before))\n",
        "print(shapiro(after))\n"
      ],
      "metadata": {
        "colab": {
          "base_uri": "https://localhost:8080/"
        },
        "id": "y3gv1WVqzUKH",
        "outputId": "85515245-17ce-495f-ad73-b234d93cfd5a"
      },
      "execution_count": 3,
      "outputs": [
        {
          "output_type": "stream",
          "name": "stdout",
          "text": [
            "ShapiroResult(statistic=0.9907895922660828, pvalue=0.6065835952758789)\n",
            "ShapiroResult(statistic=0.9916961193084717, pvalue=0.6923638582229614)\n"
          ]
        }
      ]
    },
    {
      "cell_type": "markdown",
      "source": [
        "정규성을 만족하므로, 등분산성 검정 진행."
      ],
      "metadata": {
        "id": "dzIk0pDUzZJq"
      }
    },
    {
      "cell_type": "code",
      "source": [
        "from scipy.stats import levene\n",
        "print(levene(before,after))"
      ],
      "metadata": {
        "colab": {
          "base_uri": "https://localhost:8080/"
        },
        "id": "DDeN4sfczZh6",
        "outputId": "78601f40-1132-4870-f419-15c1894a5a82"
      },
      "execution_count": 5,
      "outputs": [
        {
          "output_type": "stream",
          "name": "stdout",
          "text": [
            "LeveneResult(statistic=0.06427968690211128, pvalue=0.8000741651677987)\n"
          ]
        }
      ]
    },
    {
      "cell_type": "markdown",
      "source": [
        "등분산성을 가지기는 하나, **대응 표본의 경우 등분산성이 파라미터에 영향을 안 주므로 생략 가능**"
      ],
      "metadata": {
        "id": "X8n3a8VVzYkm"
      }
    },
    {
      "cell_type": "code",
      "source": [
        "from scipy.stats import ttest_rel\n",
        "print(ttest_rel(before,after))"
      ],
      "metadata": {
        "colab": {
          "base_uri": "https://localhost:8080/"
        },
        "id": "jqJNo4qhzou1",
        "outputId": "96f627b0-c01a-4e43-a31e-a528b47d4fd3"
      },
      "execution_count": 7,
      "outputs": [
        {
          "output_type": "stream",
          "name": "stdout",
          "text": [
            "TtestResult(statistic=-2.5535473487670677, pvalue=0.011926744724546513, df=119)\n"
          ]
        }
      ]
    },
    {
      "cell_type": "markdown",
      "source": [
        "대응표본 t 검정 결과 pvalue는 0.01로, 유의수준 5%내에서 유의하므로 대립가설을 채택하고 귀무가설을 기각한다.   \n",
        "즉, `투약 전후에 변화가 있다.`"
      ],
      "metadata": {
        "id": "SCfeh6kZzr24"
      }
    },
    {
      "cell_type": "markdown",
      "source": [
        "---"
      ],
      "metadata": {
        "id": "LNm6Xhmm0ABd"
      }
    },
    {
      "cell_type": "markdown",
      "source": [
        "### Question 2\n",
        "\n",
        "특정 질병 집단의 투약 전후의 혈류량 변화를 나타낸 데이터이다. 투약 전후의 변화가 있는지 검정하라."
      ],
      "metadata": {
        "id": "b4RbFQt-z64E"
      }
    },
    {
      "cell_type": "code",
      "source": [
        "import pandas as pd\n",
        "import matplotlib.pyplot as plt\n",
        "df = pd.read_csv('https://raw.githubusercontent.com/Datamanim/datarepo/main/scipy/rel3.csv')\n",
        "\n",
        "fig ,ax = plt.subplots(1,2)\n",
        "ax[0].boxplot(df['before'])\n",
        "ax[1].boxplot(df['after'])\n",
        "ax[0].set_xticklabels(['before'])\n",
        "ax[1].set_xticklabels(['after'])\n",
        "ax[0].set_ylim(130,300)\n",
        "ax[1].set_ylim(130,300)\n",
        "ax[1].get_yaxis().set_visible(False)\n",
        "ax[0].set_ylabel('value')\n",
        "plt.show()"
      ],
      "metadata": {
        "colab": {
          "base_uri": "https://localhost:8080/",
          "height": 435
        },
        "id": "F-_BmOrKz-Jx",
        "outputId": "641b3373-7c88-4985-c45f-bff070936cff"
      },
      "execution_count": 8,
      "outputs": [
        {
          "output_type": "display_data",
          "data": {
            "text/plain": [
              "<Figure size 640x480 with 2 Axes>"
            ],
            "image/png": "[encoded data removed]"
          },
          "metadata": {}
        }
      ]
    },
    {
      "cell_type": "markdown",
      "source": [
        "### 정규성 검증"
      ],
      "metadata": {
        "id": "3DpilkeC0Ccv"
      }
    },
    {
      "cell_type": "code",
      "source": [
        "from scipy.stats import shapiro\n",
        "\n",
        "before = df['before']\n",
        "after = df['after']\n",
        "print(shapiro(before))\n",
        "print(shapiro(after))"
      ],
      "metadata": {
        "colab": {
          "base_uri": "https://localhost:8080/"
        },
        "id": "2pbY9Jyw0DpW",
        "outputId": "a20b6281-12f0-4c0f-99ee-666d6c991c1c"
      },
      "execution_count": 9,
      "outputs": [
        {
          "output_type": "stream",
          "name": "stdout",
          "text": [
            "ShapiroResult(statistic=0.9920631051063538, pvalue=0.7270199656486511)\n",
            "ShapiroResult(statistic=0.992019534111023, pvalue=0.7229290008544922)\n"
          ]
        }
      ]
    },
    {
      "cell_type": "markdown",
      "source": [
        "p-value가 유의수준 0.5에서 대립가설이 유의하지 않으므로 귀무가설 채택.    \n",
        "즉, 두 그룹은 정규성을 가지고 있음."
      ],
      "metadata": {
        "id": "Ek8B5K8k0GBz"
      }
    },
    {
      "cell_type": "code",
      "source": [
        "from scipy.stats import ttest_rel\n",
        "print(ttest_rel(before,after))"
      ],
      "metadata": {
        "colab": {
          "base_uri": "https://localhost:8080/"
        },
        "id": "KEOv8z3G0QYx",
        "outputId": "b80fdc7c-4d93-4ce2-e312-3735a850ffc3"
      },
      "execution_count": 10,
      "outputs": [
        {
          "output_type": "stream",
          "name": "stdout",
          "text": [
            "TtestResult(statistic=0.188900575991026, pvalue=0.8504925317234707, df=119)\n"
          ]
        }
      ]
    },
    {
      "cell_type": "markdown",
      "source": [
        "대응표본 t 검정 결과 pvalue는 0.85로, 유의수준 5%내에서 유의하지 않으므로 귀무가설을 채택하고 대립가설을 기각한다.   \n",
        "즉, `투약 전후에 변화가 없다.`"
      ],
      "metadata": {
        "id": "h1sxIH8u0T1Y"
      }
    },
    {
      "cell_type": "markdown",
      "source": [
        "---"
      ],
      "metadata": {
        "id": "6IeYaS5r0bvq"
      }
    },
    {
      "cell_type": "markdown",
      "source": [
        "### Question 3\n",
        "\n",
        "특정 집단의 학습 전후 시험 성적 변화를 나타낸 데이터이다. 시험 전과 후에 차이가 있는지 검정하라."
      ],
      "metadata": {
        "id": "9whgZPKx0cZn"
      }
    },
    {
      "cell_type": "code",
      "source": [
        "import pandas as pd\n",
        "import matplotlib.pyplot as plt\n",
        "df = pd.read_csv('https://raw.githubusercontent.com/Datamanim/datarepo/main/scipy/rel1.csv')\n",
        "\n",
        "fig ,ax = plt.subplots(1,2)\n",
        "ax[0].boxplot(df['before'])\n",
        "ax[1].boxplot(df['after'])\n",
        "ax[0].set_xticklabels(['before'])\n",
        "ax[1].set_xticklabels(['after'])\n",
        "ax[0].set_ylim(145,170)\n",
        "ax[1].set_ylim(145,170)\n",
        "ax[1].get_yaxis().set_visible(False)\n",
        "ax[0].set_ylabel('value')\n",
        "plt.show()"
      ],
      "metadata": {
        "colab": {
          "base_uri": "https://localhost:8080/",
          "height": 435
        },
        "id": "nfwUypqH0gIC",
        "outputId": "70bf398d-530d-4e83-e778-aff306a5f247"
      },
      "execution_count": 11,
      "outputs": [
        {
          "output_type": "display_data",
          "data": {
            "text/plain": [
              "<Figure size 640x480 with 2 Axes>"
            ],
            "image/png": "[encoded data removed]"
          },
          "metadata": {}
        }
      ]
    },
    {
      "cell_type": "markdown",
      "source": [
        "### 정규성 검정"
      ],
      "metadata": {
        "id": "NsnhQbIo0ixf"
      }
    },
    {
      "cell_type": "code",
      "source": [
        "from scipy.stats import shapiro\n",
        "\n",
        "before = df['before']\n",
        "after = df['after']\n",
        "print(shapiro(before))\n",
        "print(shapiro(after))"
      ],
      "metadata": {
        "colab": {
          "base_uri": "https://localhost:8080/"
        },
        "id": "4SUoeuPm0ka6",
        "outputId": "24ac7e85-4be4-46de-be1d-33d3f632908c"
      },
      "execution_count": 12,
      "outputs": [
        {
          "output_type": "stream",
          "name": "stdout",
          "text": [
            "ShapiroResult(statistic=0.9173730611801147, pvalue=0.0018974003614857793)\n",
            "ShapiroResult(statistic=0.9448966979980469, pvalue=0.021140215918421745)\n"
          ]
        }
      ]
    },
    {
      "cell_type": "markdown",
      "source": [
        "p-value가 유의수준 0.5에서 대립가설이 유의하므로 대립가설 채택.    \n",
        "즉, 두 그룹은 정규성을 가지고 있지 않음."
      ],
      "metadata": {
        "id": "SllWqFhE0nFc"
      }
    },
    {
      "cell_type": "markdown",
      "source": [
        "정규성을 가지지 않으므로 **대응 표본 검정중 비모수 검정인 윌콕슨 부호순위 검정을 진행.**"
      ],
      "metadata": {
        "id": "4AQ9Nwaz0saq"
      }
    },
    {
      "cell_type": "code",
      "source": [
        "from scipy.stats import wilcoxon\n",
        "print(wilcoxon(before,after))"
      ],
      "metadata": {
        "colab": {
          "base_uri": "https://localhost:8080/"
        },
        "id": "sUXJVpAf0sv6",
        "outputId": "e4a7dfa7-20af-4f71-e877-67eb9a3d6753"
      },
      "execution_count": 15,
      "outputs": [
        {
          "output_type": "stream",
          "name": "stdout",
          "text": [
            "WilcoxonResult(statistic=437.0, pvalue=0.12098409484052809)\n"
          ]
        }
      ]
    },
    {
      "cell_type": "markdown",
      "source": [
        "대응표본 t 검정 결과 pvalue는 0.12로, 유의수준 5%내에서 유의하지 않으므로 귀무가설을 채택하고 대립가설을 기각한다.   \n",
        "즉, `투약 전후에 변화가 없다.`"
      ],
      "metadata": {
        "id": "_lXai8YE0_Z7"
      }
    },
    {
      "cell_type": "markdown",
      "source": [
        "---"
      ],
      "metadata": {
        "id": "G3XntF8l1SK9"
      }
    },
    {
      "cell_type": "markdown",
      "source": [
        "### Question 4.\n",
        "\n",
        "한 기계 부품의 rpm 수치를 두가지 다른 상황에서 측정했다.(총 70세트)     \n",
        "b 상황이 a 상황보다 rpm값이 높다고 말할 수 있는지 검정하라"
      ],
      "metadata": {
        "id": "dKMRwkJJ1SzL"
      }
    },
    {
      "cell_type": "code",
      "source": [
        "import pandas as pd\n",
        "import matplotlib.pyplot as plt\n",
        "df = pd.read_csv('https://raw.githubusercontent.com/Datamanim/datarepo/main/scipy/rel4.csv')\n",
        "\n",
        "fig ,ax = plt.subplots(1,2)\n",
        "ax[0].boxplot(df[df['group']=='a'].rpm)\n",
        "ax[1].boxplot(df[df['group']=='b'].rpm)\n",
        "ax[0].set_xticklabels(['a'])\n",
        "ax[1].set_xticklabels(['b'])\n",
        "ax[0].set_ylim(430,600)\n",
        "ax[1].set_ylim(430,600)\n",
        "ax[1].get_yaxis().set_visible(False)\n",
        "ax[0].set_ylabel('rpm')\n",
        "plt.show()"
      ],
      "metadata": {
        "colab": {
          "base_uri": "https://localhost:8080/",
          "height": 435
        },
        "id": "h4jnihzx1WxY",
        "outputId": "319bccfe-90bb-4d79-b8e6-26fa3c65c884"
      },
      "execution_count": 16,
      "outputs": [
        {
          "output_type": "display_data",
          "data": {
            "text/plain": [
              "<Figure size 640x480 with 2 Axes>"
            ],
            "image/png": "[encoded data removed]"
          },
          "metadata": {}
        }
      ]
    },
    {
      "cell_type": "code",
      "source": [
        "from scipy.stats import shapiro\n",
        "\n",
        "a = df[df['group']=='a'].rpm\n",
        "b = df[df['group']=='b'].rpm\n",
        "print(shapiro(a))\n",
        "print(shapiro(b))"
      ],
      "metadata": {
        "colab": {
          "base_uri": "https://localhost:8080/"
        },
        "id": "Qqk7wNxy1aJA",
        "outputId": "9e0b0962-0b9a-48fe-c0fd-73a8208f5cfa"
      },
      "execution_count": 19,
      "outputs": [
        {
          "output_type": "stream",
          "name": "stdout",
          "text": [
            "ShapiroResult(statistic=0.9907217025756836, pvalue=0.8884284496307373)\n",
            "ShapiroResult(statistic=0.984674870967865, pvalue=0.5505106449127197)\n"
          ]
        }
      ]
    },
    {
      "cell_type": "markdown",
      "source": [
        "p-value가 유의수준 0.5에서 대립가설이 유의하지 않으므로 귀무가설 채택.    \n",
        "즉, 두 그룹은 정규성을 가지고 있음."
      ],
      "metadata": {
        "id": "aPmpS_-q1Zbh"
      }
    },
    {
      "cell_type": "code",
      "source": [
        "from scipy.stats import ttest_rel\n",
        "print(ttest_rel(b,a, alternative='greater')) # b > a인 상황을 대립가설로 지정."
      ],
      "metadata": {
        "colab": {
          "base_uri": "https://localhost:8080/"
        },
        "id": "XXaPQRYF1wqx",
        "outputId": "d53a75ff-bd43-44fa-d410-5bddc5636c10"
      },
      "execution_count": 22,
      "outputs": [
        {
          "output_type": "stream",
          "name": "stdout",
          "text": [
            "TtestResult(statistic=1.9018108294460812, pvalue=0.030685663464464715, df=69)\n"
          ]
        }
      ]
    },
    {
      "cell_type": "markdown",
      "source": [
        "대응표본 t 검정 결과 pvalue는 0.03으로, 유의수준 5%내에서 유의하므로 대립가설을 채택하고 귀무가설을 기각한다.   \n",
        "즉, `b 상황에서의 rpm 값이 a상황 rpm 값보다 크다`"
      ],
      "metadata": {
        "id": "w4pHcbi_11bE"
      }
    }
  ]
}